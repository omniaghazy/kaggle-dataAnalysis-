{
 "cells": [
  {
   "cell_type": "code",
   "execution_count": 1,
   "id": "4258f60d",
   "metadata": {
    "_cell_guid": "b1076dfc-b9ad-4769-8c92-a6c4dae69d19",
    "_uuid": "8f2839f25d086af736a60e9eeb907d3b93b6e0e5",
    "execution": {
     "iopub.execute_input": "2025-08-09T10:00:48.330056Z",
     "iopub.status.busy": "2025-08-09T10:00:48.329294Z",
     "iopub.status.idle": "2025-08-09T10:00:50.342692Z",
     "shell.execute_reply": "2025-08-09T10:00:50.341683Z"
    },
    "papermill": {
     "duration": 2.021731,
     "end_time": "2025-08-09T10:00:50.345087",
     "exception": false,
     "start_time": "2025-08-09T10:00:48.323356",
     "status": "completed"
    },
    "tags": []
   },
   "outputs": [
    {
     "name": "stdout",
     "output_type": "stream",
     "text": [
      "/kaggle/input/multiclass-diabetes-dataset/Multiclass Diabetes Dataset/Multiclass Diabetes Dataset.csv\n"
     ]
    }
   ],
   "source": [
    "# This Python 3 environment comes with many helpful analytics libraries installed\n",
    "# It is defined by the kaggle/python Docker image: https://github.com/kaggle/docker-python\n",
    "# For example, here's several helpful packages to load\n",
    "\n",
    "import numpy as np # linear algebra\n",
    "import pandas as pd # data processing, CSV file I/O (e.g. pd.read_csv)\n",
    "\n",
    "# Input data files are available in the read-only \"../input/\" directory\n",
    "# For example, running this (by clicking run or pressing Shift+Enter) will list all files under the input directory\n",
    "\n",
    "import os\n",
    "for dirname, _, filenames in os.walk('/kaggle/input'):\n",
    "    for filename in filenames:\n",
    "        print(os.path.join(dirname, filename))\n",
    "\n",
    "# You can write up to 20GB to the current directory (/kaggle/working/) that gets preserved as output when you create a version using \"Save & Run All\" \n",
    "# You can also write temporary files to /kaggle/temp/, but they won't be saved outside of the current session"
   ]
  },
  {
   "cell_type": "code",
   "execution_count": 2,
   "id": "9228f89a",
   "metadata": {
    "execution": {
     "iopub.execute_input": "2025-08-09T10:00:50.360648Z",
     "iopub.status.busy": "2025-08-09T10:00:50.360226Z",
     "iopub.status.idle": "2025-08-09T10:00:52.444394Z",
     "shell.execute_reply": "2025-08-09T10:00:52.443515Z"
    },
    "papermill": {
     "duration": 2.092855,
     "end_time": "2025-08-09T10:00:52.445948",
     "exception": false,
     "start_time": "2025-08-09T10:00:50.353093",
     "status": "completed"
    },
    "tags": []
   },
   "outputs": [],
   "source": [
    "import pandas as pd\n",
    "import numpy as np\n",
    "import matplotlib.pyplot as plt\n",
    "import seaborn as sns "
   ]
  },
  {
   "cell_type": "code",
   "execution_count": 3,
   "id": "43b48cdf",
   "metadata": {
    "execution": {
     "iopub.execute_input": "2025-08-09T10:00:52.454989Z",
     "iopub.status.busy": "2025-08-09T10:00:52.454502Z",
     "iopub.status.idle": "2025-08-09T10:00:52.474668Z",
     "shell.execute_reply": "2025-08-09T10:00:52.473753Z"
    },
    "papermill": {
     "duration": 0.026397,
     "end_time": "2025-08-09T10:00:52.476341",
     "exception": false,
     "start_time": "2025-08-09T10:00:52.449944",
     "status": "completed"
    },
    "tags": []
   },
   "outputs": [],
   "source": [
    "df = pd.read_csv(\"/kaggle/input/multiclass-diabetes-dataset/Multiclass Diabetes Dataset/Multiclass Diabetes Dataset.csv\")"
   ]
  },
  {
   "cell_type": "code",
   "execution_count": 4,
   "id": "073b413a",
   "metadata": {
    "execution": {
     "iopub.execute_input": "2025-08-09T10:00:52.485213Z",
     "iopub.status.busy": "2025-08-09T10:00:52.484881Z",
     "iopub.status.idle": "2025-08-09T10:00:52.521663Z",
     "shell.execute_reply": "2025-08-09T10:00:52.520771Z"
    },
    "papermill": {
     "duration": 0.042867,
     "end_time": "2025-08-09T10:00:52.523153",
     "exception": false,
     "start_time": "2025-08-09T10:00:52.480286",
     "status": "completed"
    },
    "tags": []
   },
   "outputs": [
    {
     "data": {
      "text/html": [
       "<div>\n",
       "<style scoped>\n",
       "    .dataframe tbody tr th:only-of-type {\n",
       "        vertical-align: middle;\n",
       "    }\n",
       "\n",
       "    .dataframe tbody tr th {\n",
       "        vertical-align: top;\n",
       "    }\n",
       "\n",
       "    .dataframe thead th {\n",
       "        text-align: right;\n",
       "    }\n",
       "</style>\n",
       "<table border=\"1\" class=\"dataframe\">\n",
       "  <thead>\n",
       "    <tr style=\"text-align: right;\">\n",
       "      <th></th>\n",
       "      <th>Gender</th>\n",
       "      <th>AGE</th>\n",
       "      <th>Urea</th>\n",
       "      <th>Cr</th>\n",
       "      <th>HbA1c</th>\n",
       "      <th>Chol</th>\n",
       "      <th>TG</th>\n",
       "      <th>HDL</th>\n",
       "      <th>LDL</th>\n",
       "      <th>VLDL</th>\n",
       "      <th>BMI</th>\n",
       "      <th>Class</th>\n",
       "    </tr>\n",
       "  </thead>\n",
       "  <tbody>\n",
       "    <tr>\n",
       "      <th>0</th>\n",
       "      <td>0</td>\n",
       "      <td>50</td>\n",
       "      <td>4.7</td>\n",
       "      <td>46</td>\n",
       "      <td>4.9</td>\n",
       "      <td>4.2</td>\n",
       "      <td>0.9</td>\n",
       "      <td>2.4</td>\n",
       "      <td>1.4</td>\n",
       "      <td>0.5</td>\n",
       "      <td>24.0</td>\n",
       "      <td>0</td>\n",
       "    </tr>\n",
       "    <tr>\n",
       "      <th>1</th>\n",
       "      <td>1</td>\n",
       "      <td>26</td>\n",
       "      <td>4.5</td>\n",
       "      <td>62</td>\n",
       "      <td>4.9</td>\n",
       "      <td>3.7</td>\n",
       "      <td>1.4</td>\n",
       "      <td>1.1</td>\n",
       "      <td>2.1</td>\n",
       "      <td>0.6</td>\n",
       "      <td>23.0</td>\n",
       "      <td>0</td>\n",
       "    </tr>\n",
       "    <tr>\n",
       "      <th>2</th>\n",
       "      <td>1</td>\n",
       "      <td>33</td>\n",
       "      <td>7.1</td>\n",
       "      <td>46</td>\n",
       "      <td>4.9</td>\n",
       "      <td>4.9</td>\n",
       "      <td>1.0</td>\n",
       "      <td>0.8</td>\n",
       "      <td>2.0</td>\n",
       "      <td>0.4</td>\n",
       "      <td>21.0</td>\n",
       "      <td>0</td>\n",
       "    </tr>\n",
       "    <tr>\n",
       "      <th>3</th>\n",
       "      <td>0</td>\n",
       "      <td>45</td>\n",
       "      <td>2.3</td>\n",
       "      <td>24</td>\n",
       "      <td>4.0</td>\n",
       "      <td>2.9</td>\n",
       "      <td>1.0</td>\n",
       "      <td>1.0</td>\n",
       "      <td>1.5</td>\n",
       "      <td>0.4</td>\n",
       "      <td>21.0</td>\n",
       "      <td>0</td>\n",
       "    </tr>\n",
       "    <tr>\n",
       "      <th>4</th>\n",
       "      <td>0</td>\n",
       "      <td>50</td>\n",
       "      <td>2.0</td>\n",
       "      <td>50</td>\n",
       "      <td>4.0</td>\n",
       "      <td>3.6</td>\n",
       "      <td>1.3</td>\n",
       "      <td>0.9</td>\n",
       "      <td>2.1</td>\n",
       "      <td>0.6</td>\n",
       "      <td>24.0</td>\n",
       "      <td>0</td>\n",
       "    </tr>\n",
       "    <tr>\n",
       "      <th>5</th>\n",
       "      <td>1</td>\n",
       "      <td>48</td>\n",
       "      <td>4.7</td>\n",
       "      <td>47</td>\n",
       "      <td>4.0</td>\n",
       "      <td>2.9</td>\n",
       "      <td>0.8</td>\n",
       "      <td>0.9</td>\n",
       "      <td>1.6</td>\n",
       "      <td>0.4</td>\n",
       "      <td>24.0</td>\n",
       "      <td>0</td>\n",
       "    </tr>\n",
       "    <tr>\n",
       "      <th>6</th>\n",
       "      <td>1</td>\n",
       "      <td>43</td>\n",
       "      <td>2.6</td>\n",
       "      <td>67</td>\n",
       "      <td>4.0</td>\n",
       "      <td>3.8</td>\n",
       "      <td>0.9</td>\n",
       "      <td>2.4</td>\n",
       "      <td>3.7</td>\n",
       "      <td>1.0</td>\n",
       "      <td>21.0</td>\n",
       "      <td>0</td>\n",
       "    </tr>\n",
       "    <tr>\n",
       "      <th>7</th>\n",
       "      <td>0</td>\n",
       "      <td>32</td>\n",
       "      <td>3.6</td>\n",
       "      <td>28</td>\n",
       "      <td>4.0</td>\n",
       "      <td>3.8</td>\n",
       "      <td>2.0</td>\n",
       "      <td>2.4</td>\n",
       "      <td>3.8</td>\n",
       "      <td>1.0</td>\n",
       "      <td>24.0</td>\n",
       "      <td>0</td>\n",
       "    </tr>\n",
       "    <tr>\n",
       "      <th>8</th>\n",
       "      <td>0</td>\n",
       "      <td>31</td>\n",
       "      <td>4.4</td>\n",
       "      <td>55</td>\n",
       "      <td>4.2</td>\n",
       "      <td>3.6</td>\n",
       "      <td>0.7</td>\n",
       "      <td>1.7</td>\n",
       "      <td>1.6</td>\n",
       "      <td>0.3</td>\n",
       "      <td>23.0</td>\n",
       "      <td>0</td>\n",
       "    </tr>\n",
       "    <tr>\n",
       "      <th>9</th>\n",
       "      <td>0</td>\n",
       "      <td>33</td>\n",
       "      <td>3.3</td>\n",
       "      <td>53</td>\n",
       "      <td>4.0</td>\n",
       "      <td>4.0</td>\n",
       "      <td>1.1</td>\n",
       "      <td>0.9</td>\n",
       "      <td>2.7</td>\n",
       "      <td>1.0</td>\n",
       "      <td>21.0</td>\n",
       "      <td>0</td>\n",
       "    </tr>\n",
       "    <tr>\n",
       "      <th>10</th>\n",
       "      <td>0</td>\n",
       "      <td>30</td>\n",
       "      <td>3.0</td>\n",
       "      <td>42</td>\n",
       "      <td>4.1</td>\n",
       "      <td>4.9</td>\n",
       "      <td>1.3</td>\n",
       "      <td>1.2</td>\n",
       "      <td>3.2</td>\n",
       "      <td>0.5</td>\n",
       "      <td>22.0</td>\n",
       "      <td>0</td>\n",
       "    </tr>\n",
       "    <tr>\n",
       "      <th>11</th>\n",
       "      <td>0</td>\n",
       "      <td>45</td>\n",
       "      <td>4.6</td>\n",
       "      <td>54</td>\n",
       "      <td>5.1</td>\n",
       "      <td>4.2</td>\n",
       "      <td>1.7</td>\n",
       "      <td>1.2</td>\n",
       "      <td>2.2</td>\n",
       "      <td>0.8</td>\n",
       "      <td>23.0</td>\n",
       "      <td>0</td>\n",
       "    </tr>\n",
       "    <tr>\n",
       "      <th>12</th>\n",
       "      <td>0</td>\n",
       "      <td>50</td>\n",
       "      <td>3.5</td>\n",
       "      <td>39</td>\n",
       "      <td>4.0</td>\n",
       "      <td>4.0</td>\n",
       "      <td>1.5</td>\n",
       "      <td>1.2</td>\n",
       "      <td>2.2</td>\n",
       "      <td>0.7</td>\n",
       "      <td>24.0</td>\n",
       "      <td>0</td>\n",
       "    </tr>\n",
       "    <tr>\n",
       "      <th>13</th>\n",
       "      <td>1</td>\n",
       "      <td>50</td>\n",
       "      <td>5.5</td>\n",
       "      <td>74</td>\n",
       "      <td>5.0</td>\n",
       "      <td>3.6</td>\n",
       "      <td>1.1</td>\n",
       "      <td>1.0</td>\n",
       "      <td>2.1</td>\n",
       "      <td>0.5</td>\n",
       "      <td>21.0</td>\n",
       "      <td>0</td>\n",
       "    </tr>\n",
       "    <tr>\n",
       "      <th>14</th>\n",
       "      <td>0</td>\n",
       "      <td>50</td>\n",
       "      <td>5.9</td>\n",
       "      <td>53</td>\n",
       "      <td>5.4</td>\n",
       "      <td>5.3</td>\n",
       "      <td>0.8</td>\n",
       "      <td>1.1</td>\n",
       "      <td>4.1</td>\n",
       "      <td>0.3</td>\n",
       "      <td>21.0</td>\n",
       "      <td>0</td>\n",
       "    </tr>\n",
       "    <tr>\n",
       "      <th>15</th>\n",
       "      <td>0</td>\n",
       "      <td>49</td>\n",
       "      <td>2.2</td>\n",
       "      <td>28</td>\n",
       "      <td>4.1</td>\n",
       "      <td>5.0</td>\n",
       "      <td>1.3</td>\n",
       "      <td>1.2</td>\n",
       "      <td>3.3</td>\n",
       "      <td>0.6</td>\n",
       "      <td>24.0</td>\n",
       "      <td>0</td>\n",
       "    </tr>\n",
       "    <tr>\n",
       "      <th>16</th>\n",
       "      <td>0</td>\n",
       "      <td>49</td>\n",
       "      <td>3.8</td>\n",
       "      <td>55</td>\n",
       "      <td>4.0</td>\n",
       "      <td>4.4</td>\n",
       "      <td>0.9</td>\n",
       "      <td>1.0</td>\n",
       "      <td>1.3</td>\n",
       "      <td>0.4</td>\n",
       "      <td>23.0</td>\n",
       "      <td>0</td>\n",
       "    </tr>\n",
       "    <tr>\n",
       "      <th>17</th>\n",
       "      <td>0</td>\n",
       "      <td>49</td>\n",
       "      <td>13.5</td>\n",
       "      <td>175</td>\n",
       "      <td>5.1</td>\n",
       "      <td>0.5</td>\n",
       "      <td>1.9</td>\n",
       "      <td>1.3</td>\n",
       "      <td>2.8</td>\n",
       "      <td>0.8</td>\n",
       "      <td>24.0</td>\n",
       "      <td>0</td>\n",
       "    </tr>\n",
       "    <tr>\n",
       "      <th>18</th>\n",
       "      <td>0</td>\n",
       "      <td>42</td>\n",
       "      <td>5.0</td>\n",
       "      <td>73</td>\n",
       "      <td>4.5</td>\n",
       "      <td>6.2</td>\n",
       "      <td>1.0</td>\n",
       "      <td>1.1</td>\n",
       "      <td>4.6</td>\n",
       "      <td>0.4</td>\n",
       "      <td>24.0</td>\n",
       "      <td>0</td>\n",
       "    </tr>\n",
       "    <tr>\n",
       "      <th>19</th>\n",
       "      <td>0</td>\n",
       "      <td>33</td>\n",
       "      <td>5.3</td>\n",
       "      <td>62</td>\n",
       "      <td>5.0</td>\n",
       "      <td>4.2</td>\n",
       "      <td>1.5</td>\n",
       "      <td>1.2</td>\n",
       "      <td>2.3</td>\n",
       "      <td>0.6</td>\n",
       "      <td>24.0</td>\n",
       "      <td>0</td>\n",
       "    </tr>\n",
       "  </tbody>\n",
       "</table>\n",
       "</div>"
      ],
      "text/plain": [
       "    Gender  AGE  Urea   Cr  HbA1c  Chol   TG  HDL  LDL  VLDL   BMI  Class\n",
       "0        0   50   4.7   46    4.9   4.2  0.9  2.4  1.4   0.5  24.0      0\n",
       "1        1   26   4.5   62    4.9   3.7  1.4  1.1  2.1   0.6  23.0      0\n",
       "2        1   33   7.1   46    4.9   4.9  1.0  0.8  2.0   0.4  21.0      0\n",
       "3        0   45   2.3   24    4.0   2.9  1.0  1.0  1.5   0.4  21.0      0\n",
       "4        0   50   2.0   50    4.0   3.6  1.3  0.9  2.1   0.6  24.0      0\n",
       "5        1   48   4.7   47    4.0   2.9  0.8  0.9  1.6   0.4  24.0      0\n",
       "6        1   43   2.6   67    4.0   3.8  0.9  2.4  3.7   1.0  21.0      0\n",
       "7        0   32   3.6   28    4.0   3.8  2.0  2.4  3.8   1.0  24.0      0\n",
       "8        0   31   4.4   55    4.2   3.6  0.7  1.7  1.6   0.3  23.0      0\n",
       "9        0   33   3.3   53    4.0   4.0  1.1  0.9  2.7   1.0  21.0      0\n",
       "10       0   30   3.0   42    4.1   4.9  1.3  1.2  3.2   0.5  22.0      0\n",
       "11       0   45   4.6   54    5.1   4.2  1.7  1.2  2.2   0.8  23.0      0\n",
       "12       0   50   3.5   39    4.0   4.0  1.5  1.2  2.2   0.7  24.0      0\n",
       "13       1   50   5.5   74    5.0   3.6  1.1  1.0  2.1   0.5  21.0      0\n",
       "14       0   50   5.9   53    5.4   5.3  0.8  1.1  4.1   0.3  21.0      0\n",
       "15       0   49   2.2   28    4.1   5.0  1.3  1.2  3.3   0.6  24.0      0\n",
       "16       0   49   3.8   55    4.0   4.4  0.9  1.0  1.3   0.4  23.0      0\n",
       "17       0   49  13.5  175    5.1   0.5  1.9  1.3  2.8   0.8  24.0      0\n",
       "18       0   42   5.0   73    4.5   6.2  1.0  1.1  4.6   0.4  24.0      0\n",
       "19       0   33   5.3   62    5.0   4.2  1.5  1.2  2.3   0.6  24.0      0"
      ]
     },
     "execution_count": 4,
     "metadata": {},
     "output_type": "execute_result"
    }
   ],
   "source": [
    "df.head(20)"
   ]
  },
  {
   "cell_type": "code",
   "execution_count": 5,
   "id": "c6cf1077",
   "metadata": {
    "execution": {
     "iopub.execute_input": "2025-08-09T10:00:52.532467Z",
     "iopub.status.busy": "2025-08-09T10:00:52.532185Z",
     "iopub.status.idle": "2025-08-09T10:00:52.557093Z",
     "shell.execute_reply": "2025-08-09T10:00:52.556050Z"
    },
    "papermill": {
     "duration": 0.030996,
     "end_time": "2025-08-09T10:00:52.558523",
     "exception": false,
     "start_time": "2025-08-09T10:00:52.527527",
     "status": "completed"
    },
    "tags": []
   },
   "outputs": [
    {
     "name": "stdout",
     "output_type": "stream",
     "text": [
      "<class 'pandas.core.frame.DataFrame'>\n",
      "RangeIndex: 264 entries, 0 to 263\n",
      "Data columns (total 12 columns):\n",
      " #   Column  Non-Null Count  Dtype  \n",
      "---  ------  --------------  -----  \n",
      " 0   Gender  264 non-null    int64  \n",
      " 1   AGE     264 non-null    int64  \n",
      " 2   Urea    264 non-null    float64\n",
      " 3   Cr      264 non-null    int64  \n",
      " 4   HbA1c   264 non-null    float64\n",
      " 5   Chol    264 non-null    float64\n",
      " 6   TG      264 non-null    float64\n",
      " 7   HDL     264 non-null    float64\n",
      " 8   LDL     264 non-null    float64\n",
      " 9   VLDL    264 non-null    float64\n",
      " 10  BMI     264 non-null    float64\n",
      " 11  Class   264 non-null    int64  \n",
      "dtypes: float64(8), int64(4)\n",
      "memory usage: 24.9 KB\n"
     ]
    }
   ],
   "source": [
    "df.info()"
   ]
  },
  {
   "cell_type": "code",
   "execution_count": 6,
   "id": "8ba1b0dd",
   "metadata": {
    "execution": {
     "iopub.execute_input": "2025-08-09T10:00:52.568941Z",
     "iopub.status.busy": "2025-08-09T10:00:52.568025Z",
     "iopub.status.idle": "2025-08-09T10:00:52.609134Z",
     "shell.execute_reply": "2025-08-09T10:00:52.608202Z"
    },
    "papermill": {
     "duration": 0.047856,
     "end_time": "2025-08-09T10:00:52.610675",
     "exception": false,
     "start_time": "2025-08-09T10:00:52.562819",
     "status": "completed"
    },
    "tags": []
   },
   "outputs": [
    {
     "data": {
      "text/html": [
       "<div>\n",
       "<style scoped>\n",
       "    .dataframe tbody tr th:only-of-type {\n",
       "        vertical-align: middle;\n",
       "    }\n",
       "\n",
       "    .dataframe tbody tr th {\n",
       "        vertical-align: top;\n",
       "    }\n",
       "\n",
       "    .dataframe thead th {\n",
       "        text-align: right;\n",
       "    }\n",
       "</style>\n",
       "<table border=\"1\" class=\"dataframe\">\n",
       "  <thead>\n",
       "    <tr style=\"text-align: right;\">\n",
       "      <th></th>\n",
       "      <th>Gender</th>\n",
       "      <th>AGE</th>\n",
       "      <th>Urea</th>\n",
       "      <th>Cr</th>\n",
       "      <th>HbA1c</th>\n",
       "      <th>Chol</th>\n",
       "      <th>TG</th>\n",
       "      <th>HDL</th>\n",
       "      <th>LDL</th>\n",
       "      <th>VLDL</th>\n",
       "      <th>BMI</th>\n",
       "      <th>Class</th>\n",
       "    </tr>\n",
       "  </thead>\n",
       "  <tbody>\n",
       "    <tr>\n",
       "      <th>count</th>\n",
       "      <td>264.000000</td>\n",
       "      <td>264.000000</td>\n",
       "      <td>264.000000</td>\n",
       "      <td>264.000000</td>\n",
       "      <td>264.000000</td>\n",
       "      <td>264.000000</td>\n",
       "      <td>264.000000</td>\n",
       "      <td>264.000000</td>\n",
       "      <td>264.000000</td>\n",
       "      <td>264.000000</td>\n",
       "      <td>264.000000</td>\n",
       "      <td>264.000000</td>\n",
       "    </tr>\n",
       "    <tr>\n",
       "      <th>mean</th>\n",
       "      <td>0.545455</td>\n",
       "      <td>49.522727</td>\n",
       "      <td>5.671515</td>\n",
       "      <td>85.806818</td>\n",
       "      <td>6.862727</td>\n",
       "      <td>4.594394</td>\n",
       "      <td>2.151894</td>\n",
       "      <td>1.182879</td>\n",
       "      <td>2.530871</td>\n",
       "      <td>1.479167</td>\n",
       "      <td>26.626856</td>\n",
       "      <td>1.121212</td>\n",
       "    </tr>\n",
       "    <tr>\n",
       "      <th>std</th>\n",
       "      <td>0.498875</td>\n",
       "      <td>10.127301</td>\n",
       "      <td>4.002837</td>\n",
       "      <td>99.400047</td>\n",
       "      <td>2.544604</td>\n",
       "      <td>1.289062</td>\n",
       "      <td>1.265841</td>\n",
       "      <td>0.455591</td>\n",
       "      <td>1.000173</td>\n",
       "      <td>3.099856</td>\n",
       "      <td>5.093652</td>\n",
       "      <td>0.914857</td>\n",
       "    </tr>\n",
       "    <tr>\n",
       "      <th>min</th>\n",
       "      <td>0.000000</td>\n",
       "      <td>25.000000</td>\n",
       "      <td>1.100000</td>\n",
       "      <td>6.000000</td>\n",
       "      <td>0.900000</td>\n",
       "      <td>0.000000</td>\n",
       "      <td>0.600000</td>\n",
       "      <td>0.400000</td>\n",
       "      <td>0.300000</td>\n",
       "      <td>0.200000</td>\n",
       "      <td>19.000000</td>\n",
       "      <td>0.000000</td>\n",
       "    </tr>\n",
       "    <tr>\n",
       "      <th>25%</th>\n",
       "      <td>0.000000</td>\n",
       "      <td>43.000000</td>\n",
       "      <td>3.600000</td>\n",
       "      <td>46.000000</td>\n",
       "      <td>5.000000</td>\n",
       "      <td>3.875000</td>\n",
       "      <td>1.300000</td>\n",
       "      <td>0.900000</td>\n",
       "      <td>1.800000</td>\n",
       "      <td>0.675000</td>\n",
       "      <td>23.000000</td>\n",
       "      <td>0.000000</td>\n",
       "    </tr>\n",
       "    <tr>\n",
       "      <th>50%</th>\n",
       "      <td>1.000000</td>\n",
       "      <td>50.000000</td>\n",
       "      <td>4.700000</td>\n",
       "      <td>61.000000</td>\n",
       "      <td>6.100000</td>\n",
       "      <td>4.500000</td>\n",
       "      <td>1.800000</td>\n",
       "      <td>1.100000</td>\n",
       "      <td>2.500000</td>\n",
       "      <td>0.900000</td>\n",
       "      <td>25.000000</td>\n",
       "      <td>1.000000</td>\n",
       "    </tr>\n",
       "    <tr>\n",
       "      <th>75%</th>\n",
       "      <td>1.000000</td>\n",
       "      <td>55.250000</td>\n",
       "      <td>6.100000</td>\n",
       "      <td>82.250000</td>\n",
       "      <td>8.200000</td>\n",
       "      <td>5.300000</td>\n",
       "      <td>2.725000</td>\n",
       "      <td>1.325000</td>\n",
       "      <td>3.200000</td>\n",
       "      <td>1.300000</td>\n",
       "      <td>30.000000</td>\n",
       "      <td>2.000000</td>\n",
       "    </tr>\n",
       "    <tr>\n",
       "      <th>max</th>\n",
       "      <td>1.000000</td>\n",
       "      <td>77.000000</td>\n",
       "      <td>26.400000</td>\n",
       "      <td>800.000000</td>\n",
       "      <td>14.600000</td>\n",
       "      <td>9.500000</td>\n",
       "      <td>8.700000</td>\n",
       "      <td>4.000000</td>\n",
       "      <td>5.600000</td>\n",
       "      <td>31.800000</td>\n",
       "      <td>43.250000</td>\n",
       "      <td>2.000000</td>\n",
       "    </tr>\n",
       "  </tbody>\n",
       "</table>\n",
       "</div>"
      ],
      "text/plain": [
       "           Gender         AGE        Urea          Cr       HbA1c        Chol  \\\n",
       "count  264.000000  264.000000  264.000000  264.000000  264.000000  264.000000   \n",
       "mean     0.545455   49.522727    5.671515   85.806818    6.862727    4.594394   \n",
       "std      0.498875   10.127301    4.002837   99.400047    2.544604    1.289062   \n",
       "min      0.000000   25.000000    1.100000    6.000000    0.900000    0.000000   \n",
       "25%      0.000000   43.000000    3.600000   46.000000    5.000000    3.875000   \n",
       "50%      1.000000   50.000000    4.700000   61.000000    6.100000    4.500000   \n",
       "75%      1.000000   55.250000    6.100000   82.250000    8.200000    5.300000   \n",
       "max      1.000000   77.000000   26.400000  800.000000   14.600000    9.500000   \n",
       "\n",
       "               TG         HDL         LDL        VLDL         BMI       Class  \n",
       "count  264.000000  264.000000  264.000000  264.000000  264.000000  264.000000  \n",
       "mean     2.151894    1.182879    2.530871    1.479167   26.626856    1.121212  \n",
       "std      1.265841    0.455591    1.000173    3.099856    5.093652    0.914857  \n",
       "min      0.600000    0.400000    0.300000    0.200000   19.000000    0.000000  \n",
       "25%      1.300000    0.900000    1.800000    0.675000   23.000000    0.000000  \n",
       "50%      1.800000    1.100000    2.500000    0.900000   25.000000    1.000000  \n",
       "75%      2.725000    1.325000    3.200000    1.300000   30.000000    2.000000  \n",
       "max      8.700000    4.000000    5.600000   31.800000   43.250000    2.000000  "
      ]
     },
     "execution_count": 6,
     "metadata": {},
     "output_type": "execute_result"
    }
   ],
   "source": [
    "df.describe()"
   ]
  },
  {
   "cell_type": "code",
   "execution_count": 7,
   "id": "2876ee88",
   "metadata": {
    "execution": {
     "iopub.execute_input": "2025-08-09T10:00:52.620952Z",
     "iopub.status.busy": "2025-08-09T10:00:52.620660Z",
     "iopub.status.idle": "2025-08-09T10:00:52.625998Z",
     "shell.execute_reply": "2025-08-09T10:00:52.625361Z"
    },
    "papermill": {
     "duration": 0.012053,
     "end_time": "2025-08-09T10:00:52.627221",
     "exception": false,
     "start_time": "2025-08-09T10:00:52.615168",
     "status": "completed"
    },
    "tags": []
   },
   "outputs": [
    {
     "data": {
      "text/plain": [
       "(264, 12)"
      ]
     },
     "execution_count": 7,
     "metadata": {},
     "output_type": "execute_result"
    }
   ],
   "source": [
    "df.shape"
   ]
  },
  {
   "cell_type": "code",
   "execution_count": 8,
   "id": "0dc2a316",
   "metadata": {
    "execution": {
     "iopub.execute_input": "2025-08-09T10:00:52.636988Z",
     "iopub.status.busy": "2025-08-09T10:00:52.636704Z",
     "iopub.status.idle": "2025-08-09T10:00:52.644049Z",
     "shell.execute_reply": "2025-08-09T10:00:52.643030Z"
    },
    "papermill": {
     "duration": 0.013916,
     "end_time": "2025-08-09T10:00:52.645512",
     "exception": false,
     "start_time": "2025-08-09T10:00:52.631596",
     "status": "completed"
    },
    "tags": []
   },
   "outputs": [
    {
     "data": {
      "text/plain": [
       "Gender    0\n",
       "AGE       0\n",
       "Urea      0\n",
       "Cr        0\n",
       "HbA1c     0\n",
       "Chol      0\n",
       "TG        0\n",
       "HDL       0\n",
       "LDL       0\n",
       "VLDL      0\n",
       "BMI       0\n",
       "Class     0\n",
       "dtype: int64"
      ]
     },
     "execution_count": 8,
     "metadata": {},
     "output_type": "execute_result"
    }
   ],
   "source": [
    "df.isna().sum()"
   ]
  },
  {
   "cell_type": "code",
   "execution_count": 9,
   "id": "28a4ff9d",
   "metadata": {
    "execution": {
     "iopub.execute_input": "2025-08-09T10:00:52.657057Z",
     "iopub.status.busy": "2025-08-09T10:00:52.656353Z",
     "iopub.status.idle": "2025-08-09T10:00:52.664437Z",
     "shell.execute_reply": "2025-08-09T10:00:52.663578Z"
    },
    "papermill": {
     "duration": 0.015941,
     "end_time": "2025-08-09T10:00:52.665922",
     "exception": false,
     "start_time": "2025-08-09T10:00:52.649981",
     "status": "completed"
    },
    "tags": []
   },
   "outputs": [
    {
     "data": {
      "text/plain": [
       "0"
      ]
     },
     "execution_count": 9,
     "metadata": {},
     "output_type": "execute_result"
    }
   ],
   "source": [
    "df.duplicated().sum()"
   ]
  },
  {
   "cell_type": "code",
   "execution_count": 10,
   "id": "c9f303be",
   "metadata": {
    "execution": {
     "iopub.execute_input": "2025-08-09T10:00:52.676285Z",
     "iopub.status.busy": "2025-08-09T10:00:52.675909Z",
     "iopub.status.idle": "2025-08-09T10:00:52.681432Z",
     "shell.execute_reply": "2025-08-09T10:00:52.680603Z"
    },
    "papermill": {
     "duration": 0.012327,
     "end_time": "2025-08-09T10:00:52.682851",
     "exception": false,
     "start_time": "2025-08-09T10:00:52.670524",
     "status": "completed"
    },
    "tags": []
   },
   "outputs": [
    {
     "data": {
      "text/plain": [
       "Index(['Gender', 'AGE', 'Urea', 'Cr', 'HbA1c', 'Chol', 'TG', 'HDL', 'LDL',\n",
       "       'VLDL', 'BMI', 'Class'],\n",
       "      dtype='object')"
      ]
     },
     "execution_count": 10,
     "metadata": {},
     "output_type": "execute_result"
    }
   ],
   "source": [
    "df.columns\n"
   ]
  },
  {
   "cell_type": "code",
   "execution_count": 11,
   "id": "add79935",
   "metadata": {
    "execution": {
     "iopub.execute_input": "2025-08-09T10:00:52.694003Z",
     "iopub.status.busy": "2025-08-09T10:00:52.693396Z",
     "iopub.status.idle": "2025-08-09T10:00:52.706982Z",
     "shell.execute_reply": "2025-08-09T10:00:52.706095Z"
    },
    "papermill": {
     "duration": 0.020627,
     "end_time": "2025-08-09T10:00:52.708430",
     "exception": false,
     "start_time": "2025-08-09T10:00:52.687803",
     "status": "completed"
    },
    "tags": []
   },
   "outputs": [
    {
     "data": {
      "text/plain": [
       "Class  Gender\n",
       "0      0         58\n",
       "       1         38\n",
       "1      1         27\n",
       "       0         13\n",
       "2      1         79\n",
       "       0         49\n",
       "Name: count, dtype: int64"
      ]
     },
     "execution_count": 11,
     "metadata": {},
     "output_type": "execute_result"
    }
   ],
   "source": [
    "df.groupby('Class')['Gender'].value_counts()"
   ]
  },
  {
   "cell_type": "code",
   "execution_count": 12,
   "id": "31b90960",
   "metadata": {
    "execution": {
     "iopub.execute_input": "2025-08-09T10:00:52.719976Z",
     "iopub.status.busy": "2025-08-09T10:00:52.719091Z",
     "iopub.status.idle": "2025-08-09T10:00:53.119099Z",
     "shell.execute_reply": "2025-08-09T10:00:53.118199Z"
    },
    "papermill": {
     "duration": 0.407248,
     "end_time": "2025-08-09T10:00:53.120610",
     "exception": false,
     "start_time": "2025-08-09T10:00:52.713362",
     "status": "completed"
    },
    "tags": []
   },
   "outputs": [
    {
     "data": {
      "image/png": "[encoded data removed]",
      "text/plain": [
       "<Figure size 600x400 with 1 Axes>"
      ]
     },
     "metadata": {},
     "output_type": "display_data"
    }
   ],
   "source": [
    "plt.figure(figsize=(6, 4))\n",
    "sns.countplot(data=df, x='Class', hue='Gender')\n",
    "plt.title(\"Class Distribution by Gender\")\n",
    "plt.xlabel(\"Diabetes Class\")\n",
    "plt.ylabel(\"Count\")\n",
    "plt.legend(title=\"Gender\")\n",
    "plt.tight_layout()\n",
    "plt.show()"
   ]
  },
  {
   "cell_type": "code",
   "execution_count": 13,
   "id": "9320969f",
   "metadata": {
    "execution": {
     "iopub.execute_input": "2025-08-09T10:00:53.132666Z",
     "iopub.status.busy": "2025-08-09T10:00:53.131903Z",
     "iopub.status.idle": "2025-08-09T10:00:53.139582Z",
     "shell.execute_reply": "2025-08-09T10:00:53.138432Z"
    },
    "papermill": {
     "duration": 0.015023,
     "end_time": "2025-08-09T10:00:53.140821",
     "exception": false,
     "start_time": "2025-08-09T10:00:53.125798",
     "status": "completed"
    },
    "tags": []
   },
   "outputs": [
    {
     "name": "stdout",
     "output_type": "stream",
     "text": [
      "Gender\n",
      "min = 0 ....max = 1 ....nunique = 2 \n",
      "AGE\n",
      "min = 25 ....max = 77 ....nunique = 42 \n",
      "Urea\n",
      "min = 1.1 ....max = 26.4 ....nunique = 83 \n",
      "Cr\n",
      "min = 6 ....max = 800 ....nunique = 90 \n",
      "HbA1c\n",
      "min = 0.9 ....max = 14.6 ....nunique = 74 \n",
      "Chol\n",
      "min = 0.0 ....max = 9.5 ....nunique = 57 \n",
      "TG\n",
      "min = 0.6 ....max = 8.7 ....nunique = 45 \n",
      "HDL\n",
      "min = 0.4 ....max = 4.0 ....nunique = 25 \n",
      "LDL\n",
      "min = 0.3 ....max = 5.6 ....nunique = 45 \n",
      "VLDL\n",
      "min = 0.2 ....max = 31.8 ....nunique = 33 \n",
      "BMI\n",
      "min = 19.0 ....max = 43.25 ....nunique = 38 \n",
      "Class\n",
      "min = 0 ....max = 2 ....nunique = 3 \n"
     ]
    }
   ],
   "source": [
    "for col in df:\n",
    "    print(col)\n",
    "    print(f\"min = {df[col].min()} ....max = {df[col].max()} ....nunique = {df[col].nunique()} \")"
   ]
  },
  {
   "cell_type": "code",
   "execution_count": 14,
   "id": "de706807",
   "metadata": {
    "execution": {
     "iopub.execute_input": "2025-08-09T10:00:53.152315Z",
     "iopub.status.busy": "2025-08-09T10:00:53.151904Z",
     "iopub.status.idle": "2025-08-09T10:00:53.283001Z",
     "shell.execute_reply": "2025-08-09T10:00:53.282034Z"
    },
    "papermill": {
     "duration": 0.138731,
     "end_time": "2025-08-09T10:00:53.284764",
     "exception": false,
     "start_time": "2025-08-09T10:00:53.146033",
     "status": "completed"
    },
    "tags": []
   },
   "outputs": [
    {
     "data": {
      "image/png": "[encoded data removed]",
      "text/plain": [
       "<Figure size 800x500 with 1 Axes>"
      ]
     },
     "metadata": {},
     "output_type": "display_data"
    }
   ],
   "source": [
    "\n",
    "plt.figure(figsize=(8, 5))\n",
    "sns.boxplot(data=df, x='Class', y='AGE')\n",
    "plt.show()\n",
    "\n"
   ]
  },
  {
   "cell_type": "code",
   "execution_count": 15,
   "id": "fd83b329",
   "metadata": {
    "execution": {
     "iopub.execute_input": "2025-08-09T10:00:53.297095Z",
     "iopub.status.busy": "2025-08-09T10:00:53.296527Z",
     "iopub.status.idle": "2025-08-09T10:00:53.602215Z",
     "shell.execute_reply": "2025-08-09T10:00:53.601306Z"
    },
    "papermill": {
     "duration": 0.313615,
     "end_time": "2025-08-09T10:00:53.604017",
     "exception": false,
     "start_time": "2025-08-09T10:00:53.290402",
     "status": "completed"
    },
    "tags": []
   },
   "outputs": [
    {
     "data": {
      "image/png": "[encoded data removed]",
      "text/plain": [
       "<Figure size 800x500 with 1 Axes>"
      ]
     },
     "metadata": {},
     "output_type": "display_data"
    }
   ],
   "source": [
    "plt.figure(figsize=(8, 5))\n",
    "sns.scatterplot(data=df, x='BMI', y='HbA1c', hue='Class', style='Gender')\n",
    "plt.show()"
   ]
  },
  {
   "cell_type": "code",
   "execution_count": 16,
   "id": "6247a363",
   "metadata": {
    "execution": {
     "iopub.execute_input": "2025-08-09T10:00:53.619236Z",
     "iopub.status.busy": "2025-08-09T10:00:53.618894Z",
     "iopub.status.idle": "2025-08-09T10:00:53.637072Z",
     "shell.execute_reply": "2025-08-09T10:00:53.635973Z"
    },
    "papermill": {
     "duration": 0.027505,
     "end_time": "2025-08-09T10:00:53.638573",
     "exception": false,
     "start_time": "2025-08-09T10:00:53.611068",
     "status": "completed"
    },
    "tags": []
   },
   "outputs": [
    {
     "data": {
      "text/html": [
       "<div>\n",
       "<style scoped>\n",
       "    .dataframe tbody tr th:only-of-type {\n",
       "        vertical-align: middle;\n",
       "    }\n",
       "\n",
       "    .dataframe tbody tr th {\n",
       "        vertical-align: top;\n",
       "    }\n",
       "\n",
       "    .dataframe thead th {\n",
       "        text-align: right;\n",
       "    }\n",
       "</style>\n",
       "<table border=\"1\" class=\"dataframe\">\n",
       "  <thead>\n",
       "    <tr style=\"text-align: right;\">\n",
       "      <th></th>\n",
       "      <th>Gender</th>\n",
       "      <th>AGE</th>\n",
       "      <th>Urea</th>\n",
       "      <th>Cr</th>\n",
       "      <th>HbA1c</th>\n",
       "      <th>Chol</th>\n",
       "      <th>TG</th>\n",
       "      <th>HDL</th>\n",
       "      <th>LDL</th>\n",
       "      <th>VLDL</th>\n",
       "      <th>BMI</th>\n",
       "      <th>Class</th>\n",
       "    </tr>\n",
       "  </thead>\n",
       "  <tbody>\n",
       "    <tr>\n",
       "      <th>Gender</th>\n",
       "      <td>1.000000</td>\n",
       "      <td>0.143539</td>\n",
       "      <td>0.137249</td>\n",
       "      <td>0.170363</td>\n",
       "      <td>0.158350</td>\n",
       "      <td>0.025585</td>\n",
       "      <td>0.151293</td>\n",
       "      <td>-0.170715</td>\n",
       "      <td>0.023658</td>\n",
       "      <td>0.172111</td>\n",
       "      <td>0.137695</td>\n",
       "      <td>0.196158</td>\n",
       "    </tr>\n",
       "    <tr>\n",
       "      <th>AGE</th>\n",
       "      <td>0.143539</td>\n",
       "      <td>1.000000</td>\n",
       "      <td>0.201437</td>\n",
       "      <td>0.181714</td>\n",
       "      <td>0.446522</td>\n",
       "      <td>0.042347</td>\n",
       "      <td>0.216292</td>\n",
       "      <td>-0.074133</td>\n",
       "      <td>-0.018473</td>\n",
       "      <td>0.021822</td>\n",
       "      <td>0.553619</td>\n",
       "      <td>0.514331</td>\n",
       "    </tr>\n",
       "    <tr>\n",
       "      <th>Urea</th>\n",
       "      <td>0.137249</td>\n",
       "      <td>0.201437</td>\n",
       "      <td>1.000000</td>\n",
       "      <td>0.737770</td>\n",
       "      <td>0.139824</td>\n",
       "      <td>0.035962</td>\n",
       "      <td>0.165082</td>\n",
       "      <td>-0.078677</td>\n",
       "      <td>0.015097</td>\n",
       "      <td>-0.002175</td>\n",
       "      <td>0.241978</td>\n",
       "      <td>0.232363</td>\n",
       "    </tr>\n",
       "    <tr>\n",
       "      <th>Cr</th>\n",
       "      <td>0.170363</td>\n",
       "      <td>0.181714</td>\n",
       "      <td>0.737770</td>\n",
       "      <td>1.000000</td>\n",
       "      <td>0.113639</td>\n",
       "      <td>0.002475</td>\n",
       "      <td>0.168173</td>\n",
       "      <td>-0.015508</td>\n",
       "      <td>0.046571</td>\n",
       "      <td>-0.002497</td>\n",
       "      <td>0.254953</td>\n",
       "      <td>0.209028</td>\n",
       "    </tr>\n",
       "    <tr>\n",
       "      <th>HbA1c</th>\n",
       "      <td>0.158350</td>\n",
       "      <td>0.446522</td>\n",
       "      <td>0.139824</td>\n",
       "      <td>0.113639</td>\n",
       "      <td>1.000000</td>\n",
       "      <td>0.250896</td>\n",
       "      <td>0.218956</td>\n",
       "      <td>0.005604</td>\n",
       "      <td>-0.105121</td>\n",
       "      <td>0.144054</td>\n",
       "      <td>0.614643</td>\n",
       "      <td>0.771993</td>\n",
       "    </tr>\n",
       "    <tr>\n",
       "      <th>Chol</th>\n",
       "      <td>0.025585</td>\n",
       "      <td>0.042347</td>\n",
       "      <td>0.035962</td>\n",
       "      <td>0.002475</td>\n",
       "      <td>0.250896</td>\n",
       "      <td>1.000000</td>\n",
       "      <td>0.265536</td>\n",
       "      <td>0.044228</td>\n",
       "      <td>0.435670</td>\n",
       "      <td>0.110721</td>\n",
       "      <td>0.175445</td>\n",
       "      <td>0.262123</td>\n",
       "    </tr>\n",
       "    <tr>\n",
       "      <th>TG</th>\n",
       "      <td>0.151293</td>\n",
       "      <td>0.216292</td>\n",
       "      <td>0.165082</td>\n",
       "      <td>0.168173</td>\n",
       "      <td>0.218956</td>\n",
       "      <td>0.265536</td>\n",
       "      <td>1.000000</td>\n",
       "      <td>-0.081876</td>\n",
       "      <td>0.119850</td>\n",
       "      <td>0.199193</td>\n",
       "      <td>0.297110</td>\n",
       "      <td>0.313029</td>\n",
       "    </tr>\n",
       "    <tr>\n",
       "      <th>HDL</th>\n",
       "      <td>-0.170715</td>\n",
       "      <td>-0.074133</td>\n",
       "      <td>-0.078677</td>\n",
       "      <td>-0.015508</td>\n",
       "      <td>0.005604</td>\n",
       "      <td>0.044228</td>\n",
       "      <td>-0.081876</td>\n",
       "      <td>1.000000</td>\n",
       "      <td>-0.141959</td>\n",
       "      <td>-0.081158</td>\n",
       "      <td>0.044538</td>\n",
       "      <td>-0.029850</td>\n",
       "    </tr>\n",
       "    <tr>\n",
       "      <th>LDL</th>\n",
       "      <td>0.023658</td>\n",
       "      <td>-0.018473</td>\n",
       "      <td>0.015097</td>\n",
       "      <td>0.046571</td>\n",
       "      <td>-0.105121</td>\n",
       "      <td>0.435670</td>\n",
       "      <td>0.119850</td>\n",
       "      <td>-0.141959</td>\n",
       "      <td>1.000000</td>\n",
       "      <td>0.057781</td>\n",
       "      <td>-0.059192</td>\n",
       "      <td>-0.047529</td>\n",
       "    </tr>\n",
       "    <tr>\n",
       "      <th>VLDL</th>\n",
       "      <td>0.172111</td>\n",
       "      <td>0.021822</td>\n",
       "      <td>-0.002175</td>\n",
       "      <td>-0.002497</td>\n",
       "      <td>0.144054</td>\n",
       "      <td>0.110721</td>\n",
       "      <td>0.199193</td>\n",
       "      <td>-0.081158</td>\n",
       "      <td>0.057781</td>\n",
       "      <td>1.000000</td>\n",
       "      <td>0.186081</td>\n",
       "      <td>0.156690</td>\n",
       "    </tr>\n",
       "    <tr>\n",
       "      <th>BMI</th>\n",
       "      <td>0.137695</td>\n",
       "      <td>0.553619</td>\n",
       "      <td>0.241978</td>\n",
       "      <td>0.254953</td>\n",
       "      <td>0.614643</td>\n",
       "      <td>0.175445</td>\n",
       "      <td>0.297110</td>\n",
       "      <td>0.044538</td>\n",
       "      <td>-0.059192</td>\n",
       "      <td>0.186081</td>\n",
       "      <td>1.000000</td>\n",
       "      <td>0.752083</td>\n",
       "    </tr>\n",
       "    <tr>\n",
       "      <th>Class</th>\n",
       "      <td>0.196158</td>\n",
       "      <td>0.514331</td>\n",
       "      <td>0.232363</td>\n",
       "      <td>0.209028</td>\n",
       "      <td>0.771993</td>\n",
       "      <td>0.262123</td>\n",
       "      <td>0.313029</td>\n",
       "      <td>-0.029850</td>\n",
       "      <td>-0.047529</td>\n",
       "      <td>0.156690</td>\n",
       "      <td>0.752083</td>\n",
       "      <td>1.000000</td>\n",
       "    </tr>\n",
       "  </tbody>\n",
       "</table>\n",
       "</div>"
      ],
      "text/plain": [
       "          Gender       AGE      Urea        Cr     HbA1c      Chol        TG  \\\n",
       "Gender  1.000000  0.143539  0.137249  0.170363  0.158350  0.025585  0.151293   \n",
       "AGE     0.143539  1.000000  0.201437  0.181714  0.446522  0.042347  0.216292   \n",
       "Urea    0.137249  0.201437  1.000000  0.737770  0.139824  0.035962  0.165082   \n",
       "Cr      0.170363  0.181714  0.737770  1.000000  0.113639  0.002475  0.168173   \n",
       "HbA1c   0.158350  0.446522  0.139824  0.113639  1.000000  0.250896  0.218956   \n",
       "Chol    0.025585  0.042347  0.035962  0.002475  0.250896  1.000000  0.265536   \n",
       "TG      0.151293  0.216292  0.165082  0.168173  0.218956  0.265536  1.000000   \n",
       "HDL    -0.170715 -0.074133 -0.078677 -0.015508  0.005604  0.044228 -0.081876   \n",
       "LDL     0.023658 -0.018473  0.015097  0.046571 -0.105121  0.435670  0.119850   \n",
       "VLDL    0.172111  0.021822 -0.002175 -0.002497  0.144054  0.110721  0.199193   \n",
       "BMI     0.137695  0.553619  0.241978  0.254953  0.614643  0.175445  0.297110   \n",
       "Class   0.196158  0.514331  0.232363  0.209028  0.771993  0.262123  0.313029   \n",
       "\n",
       "             HDL       LDL      VLDL       BMI     Class  \n",
       "Gender -0.170715  0.023658  0.172111  0.137695  0.196158  \n",
       "AGE    -0.074133 -0.018473  0.021822  0.553619  0.514331  \n",
       "Urea   -0.078677  0.015097 -0.002175  0.241978  0.232363  \n",
       "Cr     -0.015508  0.046571 -0.002497  0.254953  0.209028  \n",
       "HbA1c   0.005604 -0.105121  0.144054  0.614643  0.771993  \n",
       "Chol    0.044228  0.435670  0.110721  0.175445  0.262123  \n",
       "TG     -0.081876  0.119850  0.199193  0.297110  0.313029  \n",
       "HDL     1.000000 -0.141959 -0.081158  0.044538 -0.029850  \n",
       "LDL    -0.141959  1.000000  0.057781 -0.059192 -0.047529  \n",
       "VLDL   -0.081158  0.057781  1.000000  0.186081  0.156690  \n",
       "BMI     0.044538 -0.059192  0.186081  1.000000  0.752083  \n",
       "Class  -0.029850 -0.047529  0.156690  0.752083  1.000000  "
      ]
     },
     "execution_count": 16,
     "metadata": {},
     "output_type": "execute_result"
    }
   ],
   "source": [
    "df.corr()"
   ]
  },
  {
   "cell_type": "code",
   "execution_count": 17,
   "id": "cd026979",
   "metadata": {
    "execution": {
     "iopub.execute_input": "2025-08-09T10:00:53.653566Z",
     "iopub.status.busy": "2025-08-09T10:00:53.652642Z",
     "iopub.status.idle": "2025-08-09T10:00:54.444395Z",
     "shell.execute_reply": "2025-08-09T10:00:54.443438Z"
    },
    "papermill": {
     "duration": 0.80085,
     "end_time": "2025-08-09T10:00:54.446100",
     "exception": false,
     "start_time": "2025-08-09T10:00:53.645250",
     "status": "completed"
    },
    "tags": []
   },
   "outputs": [],
   "source": [
    "from sklearn.model_selection import train_test_split\n",
    "from sklearn.preprocessing import LabelEncoder\n",
    "from sklearn.metrics import accuracy_score\n",
    "\n",
    "# Models\n",
    "from sklearn.linear_model import LogisticRegression\n",
    "from sklearn.tree import DecisionTreeClassifier\n",
    "from sklearn.ensemble import RandomForestClassifier\n",
    "from sklearn.svm import SVC\n",
    "from sklearn.naive_bayes import GaussianNB\n",
    "from sklearn.neighbors import KNeighborsClassifier"
   ]
  },
  {
   "cell_type": "code",
   "execution_count": 18,
   "id": "f397ee08",
   "metadata": {
    "execution": {
     "iopub.execute_input": "2025-08-09T10:00:54.461570Z",
     "iopub.status.busy": "2025-08-09T10:00:54.461279Z",
     "iopub.status.idle": "2025-08-09T10:00:54.471092Z",
     "shell.execute_reply": "2025-08-09T10:00:54.470105Z"
    },
    "papermill": {
     "duration": 0.019495,
     "end_time": "2025-08-09T10:00:54.472727",
     "exception": false,
     "start_time": "2025-08-09T10:00:54.453232",
     "status": "completed"
    },
    "tags": []
   },
   "outputs": [],
   "source": [
    "X = df.drop('Class', axis=1)\n",
    "y = df['Class']\n",
    "\n",
    "X_train, X_test, y_train, y_test = train_test_split(\n",
    "    X, y, test_size=0.2, random_state=1000\n",
    ")"
   ]
  },
  {
   "cell_type": "code",
   "execution_count": 19,
   "id": "999ae50b",
   "metadata": {
    "execution": {
     "iopub.execute_input": "2025-08-09T10:00:54.487432Z",
     "iopub.status.busy": "2025-08-09T10:00:54.487087Z",
     "iopub.status.idle": "2025-08-09T10:00:55.030303Z",
     "shell.execute_reply": "2025-08-09T10:00:55.029186Z"
    },
    "papermill": {
     "duration": 0.552238,
     "end_time": "2025-08-09T10:00:55.031714",
     "exception": false,
     "start_time": "2025-08-09T10:00:54.479476",
     "status": "completed"
    },
    "tags": []
   },
   "outputs": [
    {
     "name": "stderr",
     "output_type": "stream",
     "text": [
      "/usr/local/lib/python3.11/dist-packages/sklearn/linear_model/_logistic.py:458: ConvergenceWarning: lbfgs failed to converge (status=1):\n",
      "STOP: TOTAL NO. OF ITERATIONS REACHED LIMIT.\n",
      "\n",
      "Increase the number of iterations (max_iter) or scale the data as shown in:\n",
      "    https://scikit-learn.org/stable/modules/preprocessing.html\n",
      "Please also refer to the documentation for alternative solver options:\n",
      "    https://scikit-learn.org/stable/modules/linear_model.html#logistic-regression\n",
      "  n_iter_i = _check_optimize_result(\n"
     ]
    },
    {
     "name": "stdout",
     "output_type": "stream",
     "text": [
      "Model Accuracies Logistic Regression(%): 81.13%\n",
      "Model Accuracies Decision Tree(%): 94.34%\n",
      "Model Accuracies Random Forest(%): 88.68%\n",
      "Model Accuracies Support Vector Machine(%): 66.04%\n",
      "Model Accuracies Naive Bayes(%): 88.68%\n",
      "Model Accuracies K-Nearest Neighbors(%): 67.92%\n"
     ]
    }
   ],
   "source": [
    "models = {\n",
    "    'Logistic Regression': LogisticRegression(max_iter=1000),\n",
    "    'Decision Tree': DecisionTreeClassifier(),\n",
    "    'Random Forest': RandomForestClassifier(),\n",
    "    'Support Vector Machine': SVC(),\n",
    "    'Naive Bayes': GaussianNB(),\n",
    "    'K-Nearest Neighbors': KNeighborsClassifier()\n",
    "}\n",
    "\n",
    "# Store accuracies\n",
    "accuracy_results = {}\n",
    "\n",
    "for name, model in models.items():\n",
    "    model.fit(X_train, y_train)\n",
    "    preds = model.predict(X_test)\n",
    "    acc = accuracy_score(y_test, preds) * 100\n",
    "    accuracy_results[name] = acc\n",
    "    print(f\"Model Accuracies {name}(%): {acc:.2f}%\")\n"
   ]
  },
  {
   "cell_type": "code",
   "execution_count": null,
   "id": "56059a5f",
   "metadata": {
    "papermill": {
     "duration": 0.006393,
     "end_time": "2025-08-09T10:00:55.044953",
     "exception": false,
     "start_time": "2025-08-09T10:00:55.038560",
     "status": "completed"
    },
    "tags": []
   },
   "outputs": [],
   "source": []
  }
 ],
 "metadata": {
  "kaggle": {
   "accelerator": "none",
   "dataSources": [
    {
     "datasetId": 7893517,
     "sourceId": 12506498,
     "sourceType": "datasetVersion"
    }
   ],
   "dockerImageVersionId": 31089,
   "isGpuEnabled": false,
   "isInternetEnabled": true,
   "language": "python",
   "sourceType": "notebook"
  },
  "kernelspec": {
   "display_name": "Python 3",
   "language": "python",
   "name": "python3"
  },
  "language_info": {
   "codemirror_mode": {
    "name": "ipython",
    "version": 3
   },
   "file_extension": ".py",
   "mimetype": "text/x-python",
   "name": "python",
   "nbconvert_exporter": "python",
   "pygments_lexer": "ipython3",
   "version": "3.11.13"
  },
  "papermill": {
   "default_parameters": {},
   "duration": 12.535799,
   "end_time": "2025-08-09T10:00:55.771186",
   "environment_variables": {},
   "exception": null,
   "input_path": "__notebook__.ipynb",
   "output_path": "__notebook__.ipynb",
   "parameters": {},
   "start_time": "2025-08-09T10:00:43.235387",
   "version": "2.6.0"
  }
 },
 "nbformat": 4,
 "nbformat_minor": 5
}
