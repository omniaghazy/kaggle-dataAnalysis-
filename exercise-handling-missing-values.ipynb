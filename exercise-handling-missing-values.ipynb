{
 "cells": [
  {
   "cell_type": "markdown",
   "id": "07f27cd4",
   "metadata": {
    "papermill": {
     "duration": 0.005416,
     "end_time": "2025-07-29T00:36:46.741989",
     "exception": false,
     "start_time": "2025-07-29T00:36:46.736573",
     "status": "completed"
    },
    "tags": []
   },
   "source": [
    "**This notebook is an exercise in the [Data Cleaning](https://www.kaggle.com/learn/data-cleaning) course.  You can reference the tutorial at [this link](https://www.kaggle.com/alexisbcook/handling-missing-values).**\n",
    "\n",
    "---\n"
   ]
  },
  {
   "cell_type": "markdown",
   "id": "d6774183",
   "metadata": {
    "papermill": {
     "duration": 0.004364,
     "end_time": "2025-07-29T00:36:46.751190",
     "exception": false,
     "start_time": "2025-07-29T00:36:46.746826",
     "status": "completed"
    },
    "tags": []
   },
   "source": [
    "In this exercise, you'll apply what you learned in the **Handling missing values** tutorial.\n",
    "\n",
    "# Setup\n",
    "\n",
    "The questions below will give you feedback on your work. Run the following cell to set up the feedback system."
   ]
  },
  {
   "cell_type": "code",
   "execution_count": 1,
   "id": "ab380e01",
   "metadata": {
    "execution": {
     "iopub.execute_input": "2025-07-29T00:36:46.761549Z",
     "iopub.status.busy": "2025-07-29T00:36:46.761237Z",
     "iopub.status.idle": "2025-07-29T00:36:54.269012Z",
     "shell.execute_reply": "2025-07-29T00:36:54.267908Z"
    },
    "papermill": {
     "duration": 7.514812,
     "end_time": "2025-07-29T00:36:54.270494",
     "exception": false,
     "start_time": "2025-07-29T00:36:46.755682",
     "status": "completed"
    },
    "tags": []
   },
   "outputs": [
    {
     "name": "stderr",
     "output_type": "stream",
     "text": [
      "/usr/local/lib/python3.11/dist-packages/learntools/data_cleaning/ex1.py:6: DtypeWarning: Columns (22,32) have mixed types. Specify dtype option on import or set low_memory=False.\n",
      "  sf_permits = pd.read_csv(\"../input/building-permit-applications-data/Building_Permits.csv\")\n",
      "/tmp/ipykernel_13/3419995878.py:3: DeprecationWarning: `product` is deprecated as of NumPy 1.25.0, and will be removed in NumPy 2.0. Please use `prod` instead.\n",
      "  from learntools.data_cleaning.ex1 import *\n",
      "/usr/local/lib/python3.11/dist-packages/learntools/data_cleaning/ex1.py:69: FutureWarning: DataFrame.fillna with 'method' is deprecated and will raise in a future version. Use obj.ffill() or obj.bfill() instead.\n",
      "  _expected = sf_permits.fillna(method='bfill', axis=0).fillna(0)\n"
     ]
    },
    {
     "name": "stdout",
     "output_type": "stream",
     "text": [
      "Setup Complete\n"
     ]
    }
   ],
   "source": [
    "from learntools.core import binder\n",
    "binder.bind(globals())\n",
    "from learntools.data_cleaning.ex1 import *\n",
    "print(\"Setup Complete\")"
   ]
  },
  {
   "cell_type": "markdown",
   "id": "d97afa66",
   "metadata": {
    "papermill": {
     "duration": 0.004762,
     "end_time": "2025-07-29T00:36:54.280321",
     "exception": false,
     "start_time": "2025-07-29T00:36:54.275559",
     "status": "completed"
    },
    "tags": []
   },
   "source": [
    "# 1) Take a first look at the data\n",
    "\n",
    "Run the next code cell to load in the libraries and dataset you'll use to complete the exercise."
   ]
  },
  {
   "cell_type": "code",
   "execution_count": 2,
   "id": "1a612a92",
   "metadata": {
    "execution": {
     "iopub.execute_input": "2025-07-29T00:36:54.291303Z",
     "iopub.status.busy": "2025-07-29T00:36:54.290958Z",
     "iopub.status.idle": "2025-07-29T00:36:54.295682Z",
     "shell.execute_reply": "2025-07-29T00:36:54.294912Z"
    },
    "papermill": {
     "duration": 0.012154,
     "end_time": "2025-07-29T00:36:54.297216",
     "exception": false,
     "start_time": "2025-07-29T00:36:54.285062",
     "status": "completed"
    },
    "tags": []
   },
   "outputs": [],
   "source": [
    "import pandas as pd\n",
    "import numpy as np"
   ]
  },
  {
   "cell_type": "code",
   "execution_count": 3,
   "id": "0c2ec83a",
   "metadata": {
    "execution": {
     "iopub.execute_input": "2025-07-29T00:36:54.308739Z",
     "iopub.status.busy": "2025-07-29T00:36:54.308224Z",
     "iopub.status.idle": "2025-07-29T00:36:56.181699Z",
     "shell.execute_reply": "2025-07-29T00:36:56.180766Z"
    },
    "papermill": {
     "duration": 1.881057,
     "end_time": "2025-07-29T00:36:56.183305",
     "exception": false,
     "start_time": "2025-07-29T00:36:54.302248",
     "status": "completed"
    },
    "tags": []
   },
   "outputs": [
    {
     "name": "stderr",
     "output_type": "stream",
     "text": [
      "/tmp/ipykernel_13/3272177735.py:5: DtypeWarning: Columns (22,32) have mixed types. Specify dtype option on import or set low_memory=False.\n",
      "  sf_permits = pd.read_csv(\"/kaggle/input/building-permit-applications-data/Building_Permits.csv\")\n"
     ]
    }
   ],
   "source": [
    "# modules we'll use\n",
    "\n",
    "\n",
    "# read in all our data\n",
    "sf_permits = pd.read_csv(\"/kaggle/input/building-permit-applications-data/Building_Permits.csv\")\n",
    "\n",
    "# set seed for reproducibility\n",
    "np.random.seed(0) "
   ]
  },
  {
   "cell_type": "markdown",
   "id": "561b1465",
   "metadata": {
    "papermill": {
     "duration": 0.005431,
     "end_time": "2025-07-29T00:36:56.193803",
     "exception": false,
     "start_time": "2025-07-29T00:36:56.188372",
     "status": "completed"
    },
    "tags": []
   },
   "source": [
    "Use the code cell below to print the first five rows of the `sf_permits` DataFrame."
   ]
  },
  {
   "cell_type": "code",
   "execution_count": 4,
   "id": "f46af6e2",
   "metadata": {
    "execution": {
     "iopub.execute_input": "2025-07-29T00:36:56.204560Z",
     "iopub.status.busy": "2025-07-29T00:36:56.204253Z",
     "iopub.status.idle": "2025-07-29T00:36:56.224483Z",
     "shell.execute_reply": "2025-07-29T00:36:56.223050Z"
    },
    "papermill": {
     "duration": 0.027382,
     "end_time": "2025-07-29T00:36:56.225950",
     "exception": false,
     "start_time": "2025-07-29T00:36:56.198568",
     "status": "completed"
    },
    "tags": []
   },
   "outputs": [
    {
     "name": "stdout",
     "output_type": "stream",
     "text": [
      "  Permit Number  Permit Type            Permit Type Definition  \\\n",
      "0  201505065519            4                      sign - erect   \n",
      "1  201604195146            4                      sign - erect   \n",
      "2  201605278609            3  additions alterations or repairs   \n",
      "3  201611072166            8            otc alterations permit   \n",
      "4  201611283529            6                       demolitions   \n",
      "\n",
      "  Permit Creation Date Block  Lot  Street Number Street Number Suffix  \\\n",
      "0           05/06/2015  0326  023            140                  NaN   \n",
      "1           04/19/2016  0306  007            440                  NaN   \n",
      "2           05/27/2016  0595  203           1647                  NaN   \n",
      "3           11/07/2016  0156  011           1230                  NaN   \n",
      "4           11/28/2016  0342  001            950                  NaN   \n",
      "\n",
      "  Street Name Street Suffix  ...  Existing Construction Type  \\\n",
      "0       Ellis            St  ...                         3.0   \n",
      "1       Geary            St  ...                         3.0   \n",
      "2     Pacific            Av  ...                         1.0   \n",
      "3     Pacific            Av  ...                         5.0   \n",
      "4      Market            St  ...                         3.0   \n",
      "\n",
      "  Existing Construction Type Description Proposed Construction Type  \\\n",
      "0                          constr type 3                        NaN   \n",
      "1                          constr type 3                        NaN   \n",
      "2                          constr type 1                        1.0   \n",
      "3                         wood frame (5)                        5.0   \n",
      "4                          constr type 3                        NaN   \n",
      "\n",
      "  Proposed Construction Type Description Site Permit Supervisor District  \\\n",
      "0                                    NaN         NaN                 3.0   \n",
      "1                                    NaN         NaN                 3.0   \n",
      "2                          constr type 1         NaN                 3.0   \n",
      "3                         wood frame (5)         NaN                 3.0   \n",
      "4                                    NaN         NaN                 6.0   \n",
      "\n",
      "  Neighborhoods - Analysis Boundaries  Zipcode  \\\n",
      "0                          Tenderloin  94102.0   \n",
      "1                          Tenderloin  94102.0   \n",
      "2                        Russian Hill  94109.0   \n",
      "3                            Nob Hill  94109.0   \n",
      "4                          Tenderloin  94102.0   \n",
      "\n",
      "                                    Location      Record ID  \n",
      "0  (37.785719256680785, -122.40852313194863)  1380611233945  \n",
      "1   (37.78733980600732, -122.41063199757738)  1420164406718  \n",
      "2    (37.7946573324287, -122.42232562979227)  1424856504716  \n",
      "3   (37.79595867909168, -122.41557405519474)  1443574295566  \n",
      "4   (37.78315261897309, -122.40950883997789)   144548169992  \n",
      "\n",
      "[5 rows x 43 columns]\n"
     ]
    },
    {
     "name": "stderr",
     "output_type": "stream",
     "text": [
      "/usr/local/lib/python3.11/dist-packages/pandas/io/formats/format.py:1458: RuntimeWarning: invalid value encountered in greater\n",
      "  has_large_values = (abs_vals > 1e6).any()\n",
      "/usr/local/lib/python3.11/dist-packages/pandas/io/formats/format.py:1459: RuntimeWarning: invalid value encountered in less\n",
      "  has_small_values = ((abs_vals < 10 ** (-self.digits)) & (abs_vals > 0)).any()\n",
      "/usr/local/lib/python3.11/dist-packages/pandas/io/formats/format.py:1459: RuntimeWarning: invalid value encountered in greater\n",
      "  has_small_values = ((abs_vals < 10 ** (-self.digits)) & (abs_vals > 0)).any()\n"
     ]
    }
   ],
   "source": [
    "# TODO: Your code here!\n",
    "print(sf_permits.head())"
   ]
  },
  {
   "cell_type": "markdown",
   "id": "40a3adca",
   "metadata": {
    "papermill": {
     "duration": 0.004732,
     "end_time": "2025-07-29T00:36:56.235783",
     "exception": false,
     "start_time": "2025-07-29T00:36:56.231051",
     "status": "completed"
    },
    "tags": []
   },
   "source": [
    "Does the dataset have any missing values?  Once you have an answer, run the code cell below to get credit for your work."
   ]
  },
  {
   "cell_type": "code",
   "execution_count": 5,
   "id": "6f58a848",
   "metadata": {
    "execution": {
     "iopub.execute_input": "2025-07-29T00:36:56.247131Z",
     "iopub.status.busy": "2025-07-29T00:36:56.246787Z",
     "iopub.status.idle": "2025-07-29T00:36:56.514741Z",
     "shell.execute_reply": "2025-07-29T00:36:56.513835Z"
    },
    "papermill": {
     "duration": 0.275538,
     "end_time": "2025-07-29T00:36:56.516233",
     "exception": false,
     "start_time": "2025-07-29T00:36:56.240695",
     "status": "completed"
    },
    "tags": []
   },
   "outputs": [
    {
     "data": {
      "application/javascript": [
       "parent.postMessage({\"jupyterEvent\": \"custom.exercise_interaction\", \"data\": {\"outcomeType\": 1, \"valueTowardsCompletion\": 0.16666666666666666, \"interactionType\": 1, \"questionType\": 4, \"questionId\": \"1_TakeFirstLook\", \"learnToolsVersion\": \"0.3.5\", \"failureMessage\": \"\", \"exceptionClass\": \"\", \"trace\": \"\"}}, \"*\")"
      ],
      "text/plain": [
       "<IPython.core.display.Javascript object>"
      ]
     },
     "metadata": {},
     "output_type": "display_data"
    },
    {
     "data": {
      "text/markdown": [
       "<span style=\"color:#33cc33\">Correct:</span> \n",
       "\n",
       "The first five rows of the data does show that several columns have missing values.  You can see this in the \"Street Number Suffix\", \"Proposed Construction Type\" and \"Site Permit\" columns, among others."
      ],
      "text/plain": [
       "Correct: \n",
       "\n",
       "The first five rows of the data does show that several columns have missing values.  You can see this in the \"Street Number Suffix\", \"Proposed Construction Type\" and \"Site Permit\" columns, among others."
      ]
     },
     "metadata": {},
     "output_type": "display_data"
    }
   ],
   "source": [
    "# Check your answer (Run this code cell to receive credit!)\n",
    "sf_permits.isnull().sum()\n",
    "q1.check()"
   ]
  },
  {
   "cell_type": "code",
   "execution_count": 6,
   "id": "115126fb",
   "metadata": {
    "execution": {
     "iopub.execute_input": "2025-07-29T00:36:56.528070Z",
     "iopub.status.busy": "2025-07-29T00:36:56.527751Z",
     "iopub.status.idle": "2025-07-29T00:36:56.544166Z",
     "shell.execute_reply": "2025-07-29T00:36:56.543372Z"
    },
    "papermill": {
     "duration": 0.024627,
     "end_time": "2025-07-29T00:36:56.546182",
     "exception": false,
     "start_time": "2025-07-29T00:36:56.521555",
     "status": "completed"
    },
    "tags": []
   },
   "outputs": [
    {
     "data": {
      "application/javascript": [
       "parent.postMessage({\"jupyterEvent\": \"custom.exercise_interaction\", \"data\": {\"interactionType\": 2, \"questionType\": 4, \"questionId\": \"1_TakeFirstLook\", \"learnToolsVersion\": \"0.3.5\", \"valueTowardsCompletion\": 0.0, \"failureMessage\": \"\", \"exceptionClass\": \"\", \"trace\": \"\", \"outcomeType\": 4}}, \"*\")"
      ],
      "text/plain": [
       "<IPython.core.display.Javascript object>"
      ]
     },
     "metadata": {},
     "output_type": "display_data"
    },
    {
     "data": {
      "text/markdown": [
       "<span style=\"color:#3366cc\">Hint:</span> Use `sf_permits.head()` to view the first five rows of the data."
      ],
      "text/plain": [
       "Hint: Use `sf_permits.head()` to view the first five rows of the data."
      ]
     },
     "metadata": {},
     "output_type": "display_data"
    },
    {
     "name": "stdout",
     "output_type": "stream",
     "text": [
      "  Permit Number  Permit Type            Permit Type Definition  \\\n",
      "0  201505065519            4                      sign - erect   \n",
      "1  201604195146            4                      sign - erect   \n",
      "2  201605278609            3  additions alterations or repairs   \n",
      "3  201611072166            8            otc alterations permit   \n",
      "4  201611283529            6                       demolitions   \n",
      "\n",
      "  Permit Creation Date Block  Lot  Street Number Street Number Suffix  \\\n",
      "0           05/06/2015  0326  023            140                  NaN   \n",
      "1           04/19/2016  0306  007            440                  NaN   \n",
      "2           05/27/2016  0595  203           1647                  NaN   \n",
      "3           11/07/2016  0156  011           1230                  NaN   \n",
      "4           11/28/2016  0342  001            950                  NaN   \n",
      "\n",
      "  Street Name Street Suffix  ...  Existing Construction Type  \\\n",
      "0       Ellis            St  ...                         3.0   \n",
      "1       Geary            St  ...                         3.0   \n",
      "2     Pacific            Av  ...                         1.0   \n",
      "3     Pacific            Av  ...                         5.0   \n",
      "4      Market            St  ...                         3.0   \n",
      "\n",
      "  Existing Construction Type Description Proposed Construction Type  \\\n",
      "0                          constr type 3                        NaN   \n",
      "1                          constr type 3                        NaN   \n",
      "2                          constr type 1                        1.0   \n",
      "3                         wood frame (5)                        5.0   \n",
      "4                          constr type 3                        NaN   \n",
      "\n",
      "  Proposed Construction Type Description Site Permit Supervisor District  \\\n",
      "0                                    NaN         NaN                 3.0   \n",
      "1                                    NaN         NaN                 3.0   \n",
      "2                          constr type 1         NaN                 3.0   \n",
      "3                         wood frame (5)         NaN                 3.0   \n",
      "4                                    NaN         NaN                 6.0   \n",
      "\n",
      "  Neighborhoods - Analysis Boundaries  Zipcode  \\\n",
      "0                          Tenderloin  94102.0   \n",
      "1                          Tenderloin  94102.0   \n",
      "2                        Russian Hill  94109.0   \n",
      "3                            Nob Hill  94109.0   \n",
      "4                          Tenderloin  94102.0   \n",
      "\n",
      "                                    Location      Record ID  \n",
      "0  (37.785719256680785, -122.40852313194863)  1380611233945  \n",
      "1   (37.78733980600732, -122.41063199757738)  1420164406718  \n",
      "2    (37.7946573324287, -122.42232562979227)  1424856504716  \n",
      "3   (37.79595867909168, -122.41557405519474)  1443574295566  \n",
      "4   (37.78315261897309, -122.40950883997789)   144548169992  \n",
      "\n",
      "[5 rows x 43 columns]\n"
     ]
    },
    {
     "name": "stderr",
     "output_type": "stream",
     "text": [
      "/usr/local/lib/python3.11/dist-packages/pandas/io/formats/format.py:1458: RuntimeWarning: invalid value encountered in greater\n",
      "  has_large_values = (abs_vals > 1e6).any()\n",
      "/usr/local/lib/python3.11/dist-packages/pandas/io/formats/format.py:1459: RuntimeWarning: invalid value encountered in less\n",
      "  has_small_values = ((abs_vals < 10 ** (-self.digits)) & (abs_vals > 0)).any()\n",
      "/usr/local/lib/python3.11/dist-packages/pandas/io/formats/format.py:1459: RuntimeWarning: invalid value encountered in greater\n",
      "  has_small_values = ((abs_vals < 10 ** (-self.digits)) & (abs_vals > 0)).any()\n"
     ]
    }
   ],
   "source": [
    "# Line below will give you a hint\n",
    "q1.hint()\n",
    "print(sf_permits.head())"
   ]
  },
  {
   "cell_type": "markdown",
   "id": "c4b29f6c",
   "metadata": {
    "papermill": {
     "duration": 0.005173,
     "end_time": "2025-07-29T00:36:56.556945",
     "exception": false,
     "start_time": "2025-07-29T00:36:56.551772",
     "status": "completed"
    },
    "tags": []
   },
   "source": [
    "# 2) How many missing data points do we have?\n",
    "\n",
    "What percentage of the values in the dataset are missing?  Your answer should be a number between 0 and 100.  (If 1/4 of the values in the dataset are missing, the answer is 25.)"
   ]
  },
  {
   "cell_type": "code",
   "execution_count": 7,
   "id": "beda0c36",
   "metadata": {
    "execution": {
     "iopub.execute_input": "2025-07-29T00:36:56.569018Z",
     "iopub.status.busy": "2025-07-29T00:36:56.568697Z",
     "iopub.status.idle": "2025-07-29T00:36:56.838728Z",
     "shell.execute_reply": "2025-07-29T00:36:56.837818Z"
    },
    "papermill": {
     "duration": 0.277839,
     "end_time": "2025-07-29T00:36:56.840196",
     "exception": false,
     "start_time": "2025-07-29T00:36:56.562357",
     "status": "completed"
    },
    "tags": []
   },
   "outputs": [
    {
     "data": {
      "application/javascript": [
       "parent.postMessage({\"jupyterEvent\": \"custom.exercise_interaction\", \"data\": {\"outcomeType\": 1, \"valueTowardsCompletion\": 0.16666666666666666, \"interactionType\": 1, \"questionType\": 1, \"questionId\": \"2_PercentMissingValues\", \"learnToolsVersion\": \"0.3.5\", \"failureMessage\": \"\", \"exceptionClass\": \"\", \"trace\": \"\"}}, \"*\")"
      ],
      "text/plain": [
       "<IPython.core.display.Javascript object>"
      ]
     },
     "metadata": {},
     "output_type": "display_data"
    },
    {
     "data": {
      "text/markdown": [
       "<span style=\"color:#33cc33\">Correct</span>"
      ],
      "text/plain": [
       "Correct"
      ]
     },
     "metadata": {},
     "output_type": "display_data"
    }
   ],
   "source": [
    "# TODO: Your code here!\n",
    "percent_missing = (sf_permits.isnull().sum().sum())/(np.product(sf_permits.shape))*100\n",
    "\n",
    "# Check your answer\n",
    "q2.check()"
   ]
  },
  {
   "cell_type": "code",
   "execution_count": 8,
   "id": "2b5f01b8",
   "metadata": {
    "execution": {
     "iopub.execute_input": "2025-07-29T00:36:56.853413Z",
     "iopub.status.busy": "2025-07-29T00:36:56.852654Z",
     "iopub.status.idle": "2025-07-29T00:36:56.856703Z",
     "shell.execute_reply": "2025-07-29T00:36:56.855952Z"
    },
    "papermill": {
     "duration": 0.012166,
     "end_time": "2025-07-29T00:36:56.858058",
     "exception": false,
     "start_time": "2025-07-29T00:36:56.845892",
     "status": "completed"
    },
    "tags": []
   },
   "outputs": [],
   "source": [
    "# Lines below will give you a hint or solution code\n",
    "#q2.hint()\n",
    "#q2.solution()"
   ]
  },
  {
   "cell_type": "markdown",
   "id": "29365015",
   "metadata": {
    "papermill": {
     "duration": 0.005466,
     "end_time": "2025-07-29T00:36:56.869348",
     "exception": false,
     "start_time": "2025-07-29T00:36:56.863882",
     "status": "completed"
    },
    "tags": []
   },
   "source": [
    "# 3) Figure out why the data is missing\n",
    "\n",
    "Look at the columns **\"Street Number Suffix\"** and **\"Zipcode\"** from the [San Francisco Building Permits dataset](https://www.kaggle.com/aparnashastry/building-permit-applications-data). Both of these contain missing values. \n",
    "- Which, if either, are missing because they don't exist? \n",
    "- Which, if either, are missing because they weren't recorded?  \n",
    "\n",
    "Once you have an answer, run the code cell below."
   ]
  },
  {
   "cell_type": "code",
   "execution_count": 9,
   "id": "3f3e2aa7",
   "metadata": {
    "execution": {
     "iopub.execute_input": "2025-07-29T00:36:56.882215Z",
     "iopub.status.busy": "2025-07-29T00:36:56.881592Z",
     "iopub.status.idle": "2025-07-29T00:36:56.888394Z",
     "shell.execute_reply": "2025-07-29T00:36:56.887650Z"
    },
    "papermill": {
     "duration": 0.014731,
     "end_time": "2025-07-29T00:36:56.889745",
     "exception": false,
     "start_time": "2025-07-29T00:36:56.875014",
     "status": "completed"
    },
    "tags": []
   },
   "outputs": [
    {
     "data": {
      "application/javascript": [
       "parent.postMessage({\"jupyterEvent\": \"custom.exercise_interaction\", \"data\": {\"outcomeType\": 1, \"valueTowardsCompletion\": 0.16666666666666666, \"interactionType\": 1, \"questionType\": 4, \"questionId\": \"3_WhyDataMissing\", \"learnToolsVersion\": \"0.3.5\", \"failureMessage\": \"\", \"exceptionClass\": \"\", \"trace\": \"\"}}, \"*\")"
      ],
      "text/plain": [
       "<IPython.core.display.Javascript object>"
      ]
     },
     "metadata": {},
     "output_type": "display_data"
    },
    {
     "data": {
      "text/markdown": [
       "<span style=\"color:#33cc33\">Correct:</span> \n",
       "\n",
       "If a value in the \"Street Number Suffix\" column is missing, it is likely because it does not exist. If a value in the \"Zipcode\" column is missing, it was not recorded."
      ],
      "text/plain": [
       "Correct: \n",
       "\n",
       "If a value in the \"Street Number Suffix\" column is missing, it is likely because it does not exist. If a value in the \"Zipcode\" column is missing, it was not recorded."
      ]
     },
     "metadata": {},
     "output_type": "display_data"
    }
   ],
   "source": [
    "# Check your answer (Run this code cell to receive credit!)\n",
    "q3.check()"
   ]
  },
  {
   "cell_type": "code",
   "execution_count": 10,
   "id": "debd37bb",
   "metadata": {
    "execution": {
     "iopub.execute_input": "2025-07-29T00:36:56.903621Z",
     "iopub.status.busy": "2025-07-29T00:36:56.903352Z",
     "iopub.status.idle": "2025-07-29T00:36:56.909892Z",
     "shell.execute_reply": "2025-07-29T00:36:56.909045Z"
    },
    "papermill": {
     "duration": 0.015335,
     "end_time": "2025-07-29T00:36:56.911229",
     "exception": false,
     "start_time": "2025-07-29T00:36:56.895894",
     "status": "completed"
    },
    "tags": []
   },
   "outputs": [
    {
     "data": {
      "application/javascript": [
       "parent.postMessage({\"jupyterEvent\": \"custom.exercise_interaction\", \"data\": {\"interactionType\": 2, \"questionType\": 4, \"questionId\": \"3_WhyDataMissing\", \"learnToolsVersion\": \"0.3.5\", \"valueTowardsCompletion\": 0.0, \"failureMessage\": \"\", \"exceptionClass\": \"\", \"trace\": \"\", \"outcomeType\": 4}}, \"*\")"
      ],
      "text/plain": [
       "<IPython.core.display.Javascript object>"
      ]
     },
     "metadata": {},
     "output_type": "display_data"
    },
    {
     "data": {
      "text/markdown": [
       "<span style=\"color:#3366cc\">Hint:</span> Do all addresses generally have a street number suffix?  Do all addresses generally have a zipcode?"
      ],
      "text/plain": [
       "Hint: Do all addresses generally have a street number suffix?  Do all addresses generally have a zipcode?"
      ]
     },
     "metadata": {},
     "output_type": "display_data"
    }
   ],
   "source": [
    "# Line below will give you a hint\n",
    "q3.hint()"
   ]
  },
  {
   "cell_type": "markdown",
   "id": "cc91cac3",
   "metadata": {
    "papermill": {
     "duration": 0.005695,
     "end_time": "2025-07-29T00:36:56.922968",
     "exception": false,
     "start_time": "2025-07-29T00:36:56.917273",
     "status": "completed"
    },
    "tags": []
   },
   "source": [
    "# 4) Drop missing values: rows\n",
    "\n",
    "If you removed all of the rows of `sf_permits` with missing values, how many rows are left?\n",
    "\n",
    "**Note**: Do not change the value of `sf_permits` when checking this.  "
   ]
  },
  {
   "cell_type": "code",
   "execution_count": 11,
   "id": "fa8cb9dc",
   "metadata": {
    "execution": {
     "iopub.execute_input": "2025-07-29T00:36:56.935922Z",
     "iopub.status.busy": "2025-07-29T00:36:56.935621Z",
     "iopub.status.idle": "2025-07-29T00:36:57.191687Z",
     "shell.execute_reply": "2025-07-29T00:36:57.190746Z"
    },
    "papermill": {
     "duration": 0.264409,
     "end_time": "2025-07-29T00:36:57.193318",
     "exception": false,
     "start_time": "2025-07-29T00:36:56.928909",
     "status": "completed"
    },
    "tags": []
   },
   "outputs": [
    {
     "name": "stdout",
     "output_type": "stream",
     "text": [
      "(198900, 43)\n",
      "(0, 43)\n"
     ]
    }
   ],
   "source": [
    "# TODO: Your code here!\n",
    "print(sf_permits.shape)\n",
    "data=sf_permits.dropna()\n",
    "print(data.shape)"
   ]
  },
  {
   "cell_type": "markdown",
   "id": "286355b7",
   "metadata": {
    "papermill": {
     "duration": 0.005923,
     "end_time": "2025-07-29T00:36:57.205462",
     "exception": false,
     "start_time": "2025-07-29T00:36:57.199539",
     "status": "completed"
    },
    "tags": []
   },
   "source": [
    "Once you have an answer, run the code cell below."
   ]
  },
  {
   "cell_type": "code",
   "execution_count": 12,
   "id": "f6cdd5d2",
   "metadata": {
    "execution": {
     "iopub.execute_input": "2025-07-29T00:36:57.218782Z",
     "iopub.status.busy": "2025-07-29T00:36:57.218455Z",
     "iopub.status.idle": "2025-07-29T00:36:57.225707Z",
     "shell.execute_reply": "2025-07-29T00:36:57.224869Z"
    },
    "papermill": {
     "duration": 0.015657,
     "end_time": "2025-07-29T00:36:57.227180",
     "exception": false,
     "start_time": "2025-07-29T00:36:57.211523",
     "status": "completed"
    },
    "tags": []
   },
   "outputs": [
    {
     "data": {
      "application/javascript": [
       "parent.postMessage({\"jupyterEvent\": \"custom.exercise_interaction\", \"data\": {\"outcomeType\": 1, \"valueTowardsCompletion\": 0.16666666666666666, \"interactionType\": 1, \"questionType\": 4, \"questionId\": \"4_DropMissingRows\", \"learnToolsVersion\": \"0.3.5\", \"failureMessage\": \"\", \"exceptionClass\": \"\", \"trace\": \"\"}}, \"*\")"
      ],
      "text/plain": [
       "<IPython.core.display.Javascript object>"
      ]
     },
     "metadata": {},
     "output_type": "display_data"
    },
    {
     "data": {
      "text/markdown": [
       "<span style=\"color:#33cc33\">Correct:</span> \n",
       "\n",
       "There are no rows remaining in the dataset!"
      ],
      "text/plain": [
       "Correct: \n",
       "\n",
       "There are no rows remaining in the dataset!"
      ]
     },
     "metadata": {},
     "output_type": "display_data"
    }
   ],
   "source": [
    "# Check your answer (Run this code cell to receive credit!)\n",
    "q4.check()"
   ]
  },
  {
   "cell_type": "code",
   "execution_count": 13,
   "id": "633a05c5",
   "metadata": {
    "execution": {
     "iopub.execute_input": "2025-07-29T00:36:57.241316Z",
     "iopub.status.busy": "2025-07-29T00:36:57.240983Z",
     "iopub.status.idle": "2025-07-29T00:36:57.247876Z",
     "shell.execute_reply": "2025-07-29T00:36:57.246952Z"
    },
    "papermill": {
     "duration": 0.015448,
     "end_time": "2025-07-29T00:36:57.249259",
     "exception": false,
     "start_time": "2025-07-29T00:36:57.233811",
     "status": "completed"
    },
    "tags": []
   },
   "outputs": [
    {
     "data": {
      "application/javascript": [
       "parent.postMessage({\"jupyterEvent\": \"custom.exercise_interaction\", \"data\": {\"interactionType\": 2, \"questionType\": 4, \"questionId\": \"4_DropMissingRows\", \"learnToolsVersion\": \"0.3.5\", \"valueTowardsCompletion\": 0.0, \"failureMessage\": \"\", \"exceptionClass\": \"\", \"trace\": \"\", \"outcomeType\": 4}}, \"*\")"
      ],
      "text/plain": [
       "<IPython.core.display.Javascript object>"
      ]
     },
     "metadata": {},
     "output_type": "display_data"
    },
    {
     "data": {
      "text/markdown": [
       "<span style=\"color:#3366cc\">Hint:</span> Use `sf_permits.dropna()` to drop all missing rows."
      ],
      "text/plain": [
       "Hint: Use `sf_permits.dropna()` to drop all missing rows."
      ]
     },
     "metadata": {},
     "output_type": "display_data"
    }
   ],
   "source": [
    "# Line below will give you a hint\n",
    "q4.hint()"
   ]
  },
  {
   "cell_type": "markdown",
   "id": "0b6662fa",
   "metadata": {
    "papermill": {
     "duration": 0.006193,
     "end_time": "2025-07-29T00:36:57.262094",
     "exception": false,
     "start_time": "2025-07-29T00:36:57.255901",
     "status": "completed"
    },
    "tags": []
   },
   "source": [
    "# 5) Drop missing values: columns\n",
    "\n",
    "Now try removing all the columns with empty values.  \n",
    "- Create a new DataFrame called `sf_permits_with_na_dropped` that has all of the columns with empty values removed.  \n",
    "- How many columns were removed from the original `sf_permits` DataFrame? Use this number to set the value of the `dropped_columns` variable below."
   ]
  },
  {
   "cell_type": "code",
   "execution_count": 14,
   "id": "734c50e2",
   "metadata": {
    "execution": {
     "iopub.execute_input": "2025-07-29T00:36:57.276219Z",
     "iopub.status.busy": "2025-07-29T00:36:57.275877Z",
     "iopub.status.idle": "2025-07-29T00:36:57.542031Z",
     "shell.execute_reply": "2025-07-29T00:36:57.541199Z"
    },
    "papermill": {
     "duration": 0.275037,
     "end_time": "2025-07-29T00:36:57.543657",
     "exception": false,
     "start_time": "2025-07-29T00:36:57.268620",
     "status": "completed"
    },
    "tags": []
   },
   "outputs": [],
   "source": [
    "# TODO: Your code here\n",
    "# Solution:\n",
    "\n",
    "# remove all columns with at least one missing value\n",
    "sf_permits_with_na_dropped = sf_permits.dropna(axis=1)\n",
    "\n",
    "# calculate number of dropped columns\n",
    "cols_in_original_dataset = sf_permits.shape[1]\n",
    "cols_in_na_dropped = sf_permits_with_na_dropped.shape[1]\n",
    "dropped_columns = cols_in_original_dataset - cols_in_na_dropped\n",
    "\n",
    "# Check your answer\n",
    "# q5.check()"
   ]
  },
  {
   "cell_type": "code",
   "execution_count": 15,
   "id": "3e8ba901",
   "metadata": {
    "execution": {
     "iopub.execute_input": "2025-07-29T00:36:57.558630Z",
     "iopub.status.busy": "2025-07-29T00:36:57.557973Z",
     "iopub.status.idle": "2025-07-29T00:36:57.567241Z",
     "shell.execute_reply": "2025-07-29T00:36:57.566498Z"
    },
    "papermill": {
     "duration": 0.017917,
     "end_time": "2025-07-29T00:36:57.568383",
     "exception": false,
     "start_time": "2025-07-29T00:36:57.550466",
     "status": "completed"
    },
    "tags": []
   },
   "outputs": [
    {
     "data": {
      "application/javascript": [
       "parent.postMessage({\"jupyterEvent\": \"custom.exercise_interaction\", \"data\": {\"interactionType\": 2, \"questionType\": 1, \"questionId\": \"5_DropMissingCols\", \"learnToolsVersion\": \"0.3.5\", \"valueTowardsCompletion\": 0.0, \"failureMessage\": \"\", \"exceptionClass\": \"\", \"trace\": \"\", \"outcomeType\": 4}}, \"*\")"
      ],
      "text/plain": [
       "<IPython.core.display.Javascript object>"
      ]
     },
     "metadata": {},
     "output_type": "display_data"
    },
    {
     "data": {
      "text/markdown": [
       "<span style=\"color:#3366cc\">Hint:</span> You can begin by getting the dropping all columns with missing values with `sf_permits.dropna(axis=1)`."
      ],
      "text/plain": [
       "Hint: You can begin by getting the dropping all columns with missing values with `sf_permits.dropna(axis=1)`."
      ]
     },
     "metadata": {},
     "output_type": "display_data"
    },
    {
     "data": {
      "application/javascript": [
       "parent.postMessage({\"jupyterEvent\": \"custom.exercise_interaction\", \"data\": {\"interactionType\": 3, \"questionType\": 1, \"questionId\": \"5_DropMissingCols\", \"learnToolsVersion\": \"0.3.5\", \"valueTowardsCompletion\": 0.0, \"failureMessage\": \"\", \"exceptionClass\": \"\", \"trace\": \"\", \"outcomeType\": 4}}, \"*\")"
      ],
      "text/plain": [
       "<IPython.core.display.Javascript object>"
      ]
     },
     "metadata": {},
     "output_type": "display_data"
    },
    {
     "data": {
      "text/markdown": [
       "<span style=\"color:#33cc99\">Solution:</span> \n",
       "```python\n",
       "# remove all columns with at least one missing value\n",
       "sf_permits_with_na_dropped = sf_permits.dropna(axis=1)\n",
       "\n",
       "# calculate number of dropped columns\n",
       "cols_in_original_dataset = sf_permits.shape[1]\n",
       "cols_in_na_dropped = sf_permits_with_na_dropped.shape[1]\n",
       "dropped_columns = cols_in_original_dataset - cols_in_na_dropped\n",
       "\n",
       "```"
      ],
      "text/plain": [
       "Solution: \n",
       "```python\n",
       "# remove all columns with at least one missing value\n",
       "sf_permits_with_na_dropped = sf_permits.dropna(axis=1)\n",
       "\n",
       "# calculate number of dropped columns\n",
       "cols_in_original_dataset = sf_permits.shape[1]\n",
       "cols_in_na_dropped = sf_permits_with_na_dropped.shape[1]\n",
       "dropped_columns = cols_in_original_dataset - cols_in_na_dropped\n",
       "\n",
       "```"
      ]
     },
     "metadata": {},
     "output_type": "display_data"
    }
   ],
   "source": [
    "# Lines below will give you a hint or solution code\n",
    "q5.hint()\n",
    "q5.solution()"
   ]
  },
  {
   "cell_type": "markdown",
   "id": "be40116a",
   "metadata": {
    "papermill": {
     "duration": 0.006694,
     "end_time": "2025-07-29T00:36:57.582282",
     "exception": false,
     "start_time": "2025-07-29T00:36:57.575588",
     "status": "completed"
    },
    "tags": []
   },
   "source": [
    "# 6) Fill in missing values automatically\n",
    "\n",
    "Try replacing all the NaN's in the `sf_permits` data with the one that comes directly after it and then replacing any remaining NaN's with 0.  Set the result to a new DataFrame `sf_permits_with_na_imputed`."
   ]
  },
  {
   "cell_type": "code",
   "execution_count": 16,
   "id": "b9db1c19",
   "metadata": {
    "execution": {
     "iopub.execute_input": "2025-07-29T00:36:57.598179Z",
     "iopub.status.busy": "2025-07-29T00:36:57.597748Z",
     "iopub.status.idle": "2025-07-29T00:36:59.670726Z",
     "shell.execute_reply": "2025-07-29T00:36:59.669888Z"
    },
    "papermill": {
     "duration": 2.082103,
     "end_time": "2025-07-29T00:36:59.672272",
     "exception": false,
     "start_time": "2025-07-29T00:36:57.590169",
     "status": "completed"
    },
    "tags": []
   },
   "outputs": [
    {
     "name": "stderr",
     "output_type": "stream",
     "text": [
      "/tmp/ipykernel_13/434128817.py:2: FutureWarning: DataFrame.fillna with 'method' is deprecated and will raise in a future version. Use obj.ffill() or obj.bfill() instead.\n",
      "  sf_permits_with_na_imputed = sf_permits.fillna(method =\"bfill\",axis =0).fillna(0)\n"
     ]
    },
    {
     "data": {
      "application/javascript": [
       "parent.postMessage({\"jupyterEvent\": \"custom.exercise_interaction\", \"data\": {\"outcomeType\": 1, \"valueTowardsCompletion\": 0.16666666666666666, \"interactionType\": 1, \"questionType\": 1, \"questionId\": \"6_ImputeAutomatically\", \"learnToolsVersion\": \"0.3.5\", \"failureMessage\": \"\", \"exceptionClass\": \"\", \"trace\": \"\"}}, \"*\")"
      ],
      "text/plain": [
       "<IPython.core.display.Javascript object>"
      ]
     },
     "metadata": {},
     "output_type": "display_data"
    },
    {
     "data": {
      "text/markdown": [
       "<span style=\"color:#33cc33\">Correct</span>"
      ],
      "text/plain": [
       "Correct"
      ]
     },
     "metadata": {},
     "output_type": "display_data"
    }
   ],
   "source": [
    "# TODO: Your code here\n",
    "sf_permits_with_na_imputed = sf_permits.fillna(method =\"bfill\",axis =0).fillna(0)\n",
    "# Check your answer\n",
    "q6.check()"
   ]
  },
  {
   "cell_type": "code",
   "execution_count": 17,
   "id": "e3637703",
   "metadata": {
    "execution": {
     "iopub.execute_input": "2025-07-29T00:36:59.689301Z",
     "iopub.status.busy": "2025-07-29T00:36:59.688979Z",
     "iopub.status.idle": "2025-07-29T00:36:59.698428Z",
     "shell.execute_reply": "2025-07-29T00:36:59.697759Z"
    },
    "papermill": {
     "duration": 0.01921,
     "end_time": "2025-07-29T00:36:59.699762",
     "exception": false,
     "start_time": "2025-07-29T00:36:59.680552",
     "status": "completed"
    },
    "tags": []
   },
   "outputs": [
    {
     "data": {
      "application/javascript": [
       "parent.postMessage({\"jupyterEvent\": \"custom.exercise_interaction\", \"data\": {\"interactionType\": 2, \"questionType\": 1, \"questionId\": \"6_ImputeAutomatically\", \"learnToolsVersion\": \"0.3.5\", \"valueTowardsCompletion\": 0.0, \"failureMessage\": \"\", \"exceptionClass\": \"\", \"trace\": \"\", \"outcomeType\": 4}}, \"*\")"
      ],
      "text/plain": [
       "<IPython.core.display.Javascript object>"
      ]
     },
     "metadata": {},
     "output_type": "display_data"
    },
    {
     "data": {
      "text/markdown": [
       "<span style=\"color:#3366cc\">Hint:</span> Use the `.fillna()` method twice."
      ],
      "text/plain": [
       "Hint: Use the `.fillna()` method twice."
      ]
     },
     "metadata": {},
     "output_type": "display_data"
    },
    {
     "data": {
      "application/javascript": [
       "parent.postMessage({\"jupyterEvent\": \"custom.exercise_interaction\", \"data\": {\"interactionType\": 3, \"questionType\": 1, \"questionId\": \"6_ImputeAutomatically\", \"learnToolsVersion\": \"0.3.5\", \"valueTowardsCompletion\": 0.0, \"failureMessage\": \"\", \"exceptionClass\": \"\", \"trace\": \"\", \"outcomeType\": 4}}, \"*\")"
      ],
      "text/plain": [
       "<IPython.core.display.Javascript object>"
      ]
     },
     "metadata": {},
     "output_type": "display_data"
    },
    {
     "data": {
      "text/markdown": [
       "<span style=\"color:#33cc99\">Solution:</span> \n",
       "```python\n",
       "sf_permits_with_na_imputed = sf_permits.fillna(method='bfill', axis=0).fillna(0)\n",
       "\n",
       "```"
      ],
      "text/plain": [
       "Solution: \n",
       "```python\n",
       "sf_permits_with_na_imputed = sf_permits.fillna(method='bfill', axis=0).fillna(0)\n",
       "\n",
       "```"
      ]
     },
     "metadata": {},
     "output_type": "display_data"
    }
   ],
   "source": [
    "# Lines below will give you a hint or solution code\n",
    "q6.hint()\n",
    "q6.solution()"
   ]
  },
  {
   "cell_type": "markdown",
   "id": "795daa80",
   "metadata": {
    "papermill": {
     "duration": 0.007261,
     "end_time": "2025-07-29T00:36:59.714766",
     "exception": false,
     "start_time": "2025-07-29T00:36:59.707505",
     "status": "completed"
    },
    "tags": []
   },
   "source": [
    "# More practice\n",
    "\n",
    "If you're looking for more practice handling missing values:\n",
    "\n",
    "* Check out [this noteboook](https://www.kaggle.com/alexisbcook/missing-values) on handling missing values using scikit-learn's imputer. \n",
    "* Look back at the \"Zipcode\" column in the `sf_permits` dataset, which has some missing values. How would you go about figuring out what the actual zipcode of each address should be? (You might try using another dataset. You can search for datasets about San Fransisco on the [Datasets listing](https://www.kaggle.com/datasets).) \n",
    "\n",
    "# Keep going\n",
    "\n",
    "In the next lesson, learn how to [**apply scaling and normalization**](https://www.kaggle.com/alexisbcook/scaling-and-normalization) to transform your data."
   ]
  },
  {
   "cell_type": "markdown",
   "id": "e3275b1c",
   "metadata": {
    "papermill": {
     "duration": 0.007455,
     "end_time": "2025-07-29T00:36:59.729674",
     "exception": false,
     "start_time": "2025-07-29T00:36:59.722219",
     "status": "completed"
    },
    "tags": []
   },
   "source": [
    "---\n",
    "\n",
    "\n",
    "\n",
    "\n",
    "*Have questions or comments? Visit the [course discussion forum](https://www.kaggle.com/learn/data-cleaning/discussion) to chat with other learners.*"
   ]
  },
  {
   "cell_type": "code",
   "execution_count": null,
   "id": "6102fbd6",
   "metadata": {
    "papermill": {
     "duration": 0.007123,
     "end_time": "2025-07-29T00:36:59.744130",
     "exception": false,
     "start_time": "2025-07-29T00:36:59.737007",
     "status": "completed"
    },
    "tags": []
   },
   "outputs": [],
   "source": []
  }
 ],
 "metadata": {
  "kaggle": {
   "accelerator": "none",
   "dataSources": [
    {
     "datasetId": 16432,
     "sourceId": 21688,
     "sourceType": "datasetVersion"
    }
   ],
   "isGpuEnabled": false,
   "isInternetEnabled": false,
   "language": "python",
   "sourceType": "notebook"
  },
  "kernelspec": {
   "display_name": "Python 3",
   "language": "python",
   "name": "python3"
  },
  "language_info": {
   "codemirror_mode": {
    "name": "ipython",
    "version": 3
   },
   "file_extension": ".py",
   "mimetype": "text/x-python",
   "name": "python",
   "nbconvert_exporter": "python",
   "pygments_lexer": "ipython3",
   "version": "3.11.13"
  },
  "papermill": {
   "default_parameters": {},
   "duration": 18.770878,
   "end_time": "2025-07-29T00:37:00.472237",
   "environment_variables": {},
   "exception": null,
   "input_path": "__notebook__.ipynb",
   "output_path": "__notebook__.ipynb",
   "parameters": {},
   "start_time": "2025-07-29T00:36:41.701359",
   "version": "2.6.0"
  }
 },
 "nbformat": 4,
 "nbformat_minor": 5
}
